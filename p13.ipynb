{
 "cells": [
  {
   "cell_type": "code",
   "execution_count": 1,
   "id": "5e33d91e",
   "metadata": {
    "cell_type": "code",
    "deletable": false,
    "editable": false
   },
   "outputs": [],
   "source": [
    "import otter\n",
    "# nb_name should be the name of your notebook without the .ipynb extension\n",
    "nb_name = \"p13\"\n",
    "py_filename = nb_name + \".py\"\n",
    "grader = otter.Notebook(nb_name + \".ipynb\")"
   ]
  },
  {
   "cell_type": "code",
   "execution_count": 2,
   "id": "0611fe14",
   "metadata": {
    "deletable": false
   },
   "outputs": [],
   "source": [
    "import p13_test"
   ]
  },
  {
   "cell_type": "code",
   "execution_count": 3,
   "id": "2bcd01a8",
   "metadata": {},
   "outputs": [],
   "source": [
    "# PLEASE FILL IN THE DETAILS\n",
    "# enter none if you don't have a project partner\n",
    "# you will have to add your partner as a group member on Gradescope even after you fill this\n",
    "\n",
    "# project: p13\n",
    "# submitter: cheng274\n",
    "# partner: none"
   ]
  },
  {
   "cell_type": "markdown",
   "id": "372ed345",
   "metadata": {
    "deletable": false,
    "editable": false
   },
   "source": [
    " # Project 13: World University Rankings"
   ]
  },
  {
   "cell_type": "markdown",
   "id": "b30c2df0",
   "metadata": {
    "deletable": false,
    "editable": false
   },
   "source": [
    "## Learning Objectives:\n",
    "\n",
    "In this project, you will demonstrate how to:\n",
    "\n",
    "* query a database using SQL,\n",
    "* process data using `pandas` **DataFrames**,\n",
    "* create different types of plots.\n",
    "\n",
    "Please go through [Lab-P13](https://git.doit.wisc.edu/cdis/cs/courses/cs220/cs220-s23-projects/-/tree/main/lab-p13) before working on this project. The lab introduces some useful techniques related to this project."
   ]
  },
  {
   "cell_type": "markdown",
   "id": "479785c7",
   "metadata": {
    "deletable": false,
    "editable": false
   },
   "source": [
    "## Note on Academic Misconduct:\n",
    "\n",
    "**IMPORTANT**: P12 and P13 are two parts of the same data analysis. You **cannot** switch project partners between these two projects. That is if you partnered up with someone for P12, you have to sustain that partnership until end of P13. Now may be a good time to review [our course policies](https://cs220.cs.wisc.edu/s23/syllabus.html)."
   ]
  },
  {
   "cell_type": "markdown",
   "id": "3e0e04f5",
   "metadata": {
    "deletable": false,
    "editable": false
   },
   "source": [
    "## Testing your code:\n",
    "\n",
    "Along with this notebook, you must have downloaded the file `p13_test.py`. If you are curious about how we test your code, you can explore this file, and specifically the value of the variable `expected_json`, to understand the expected answers to the questions.\n",
    "\n",
    "For answers involving DataFrames, `p13_test.py` compares your tables to those in `p13_expected.html`, so take a moment to open that file on a web browser (from Finder/Explorer).\n",
    "\n",
    "For answers involving plots, `p13_test.py` can **only** check that the **DataFrames** are correct, but it **cannot** check if your plot appears on the screen, or whether the axes are correctly labelled. Your plots will be **manually graded**, and you will **lose points** if your plot is not visible, or if it is not properly labelled.\n",
    "\n",
    "**IMPORTANT Warning:** Do **not** download the dataset `QSranking.json` **manually**. Use the `download` function from P12 to download it. When we run the autograder, this file `QSranking.json` will **not** be in the directory. So, unless your `p13.ipynb` downloads this file, you will get a **zero score** on the project. Also, make sure your `download` function includes code to check if the file already exists. Otherwise, you will **lose** points for **hardcoding**."
   ]
  },
  {
   "cell_type": "markdown",
   "id": "aad1951a",
   "metadata": {
    "deletable": false,
    "editable": false
   },
   "source": [
    "## Project Description:\n",
    "\n",
    "For your final CS220 project, you're going to continue analyzing world university rankings. However, we will be using a different dataset this time. The data for this project has been extracted from [here](https://www.topuniversities.com/university-rankings/world-university-rankings/2023). Unlike the CWUR rankings we used in P12, the QS rankings dataset has various scores for the universities, and not just the rankings. This makes the QS rankings dataset more suitable for plotting (which you will be doing a lot of!).\n",
    "\n",
    "In this project, you'll have to dump your DataFrame to a SQLite database. You'll answer questions by doing queries on that database. Often, your answers will be in the form of a plot. Check these carefully, as the tests only verify that a plot has been created, not that it looks correct (the Gradescope autograder will manually deduct points for plotting mistakes)."
   ]
  },
  {
   "cell_type": "markdown",
   "id": "48aad11e",
   "metadata": {
    "deletable": false,
    "editable": false
   },
   "source": [
    "## Project Requirements:\n",
    "\n",
    "You **may not** hardcode indices in your code. You **may not** manually download **any** files for this project, unless you are **explicitly** told to do so. For all other files, you **must** use the `download` function to download the files.\n",
    "\n",
    "**Store** your final answer for each question in the **variable specified for each question**. This step is important because Otter grades your work by comparing the value of this variable against the correct answer.\n",
    "\n",
    "For some of the questions, we'll ask you to write (then use) a function to compute the answer. If you compute the answer **without** creating the function we ask you to write, we'll **manually deduct** points from your autograder score on Gradescope, even if the way you did it produced the correct answer.\n",
    "\n",
    "Required Functions:\n",
    "- `bar_plot`\n",
    "- `scatter_plot`\n",
    "- `horizontal_bar_plot`\n",
    "- `pie_plot`\n",
    "- `get_regression_coeff`\n",
    "- `get_regression_line`\n",
    "- `regression_line_plot`\n",
    "- `download`\n",
    "\n",
    "In this project, you will also be required to define certain **data structures**. If you do not create these data structures exactly as specified, we'll **manually deduct** points from your autograder score on Gradescope, even if the way you did it produced the correct answer.\n",
    "\n",
    "Required Data Structures:\n",
    "- `conn`\n",
    "\n",
    "You **must** write SQL queries to solve the questions in this project, unless you are **explicitly** told otherwise. You will **not get any credit** if you use `pandas` operations to extract data. We will give you **specific** instructions for any questions where `pandas` operations are allowed. In addition, you are also **required** to follow the requirements below:\n",
    "\n",
    "* You **must** close the connection to `conn` at the end of your notebook.\n",
    "* Do **not** use **absolute** paths such as `C://ms//cs220//p13`. You may **only** use **relative paths**.\n",
    "* Do **not** hardcode `//` or `\\` in any of your paths. You **must** use `os.path.join` to create paths.\n",
    "* Do **not** leave irrelevant output or test code that we didn't ask for.\n",
    "* **Avoid** calling **slow** functions multiple times within a loop.\n",
    "* Do **not** define multiple functions with the same name or define multiple versions of one function with different names. Just keep the best version.\n",
    "\n",
    "For more details on what will cause you to lose points during code review and specific requirements, please take a look at the [Grading rubric](https://git.doit.wisc.edu/cdis/cs/courses/cs220/cs220-s23-projects/-/blob/main/p13/rubric.md)."
   ]
  },
  {
   "cell_type": "markdown",
   "id": "e04f805e",
   "metadata": {
    "deletable": false,
    "editable": false
   },
   "source": [
    "## Questions and Functions:\n",
    "\n",
    "Let us start by importing all the modules we will need for this project."
   ]
  },
  {
   "cell_type": "code",
   "execution_count": 4,
   "id": "b1363e20",
   "metadata": {
    "tags": []
   },
   "outputs": [],
   "source": [
    "# it is considered a good coding practice to place all import statements at the top of the notebook\n",
    "# please place all your import statements in this cell if you need to import any more modules for this project\n",
    "import sqlite3\n",
    "import pandas as pd\n",
    "import matplotlib\n",
    "from matplotlib import pyplot as plt\n",
    "import math\n",
    "import numpy as np\n",
    "import os\n",
    "import requests"
   ]
  },
  {
   "cell_type": "markdown",
   "id": "995a9ea8",
   "metadata": {
    "deletable": false,
    "editable": false
   },
   "source": [
    "Now, you may copy/paste some of the functions and data structures you defined in Lab-P13 and P12, which will be useful for this project."
   ]
  },
  {
   "cell_type": "code",
   "execution_count": 5,
   "id": "a4fab7ea",
   "metadata": {
    "tags": []
   },
   "outputs": [],
   "source": [
    "# this ensures that font.size setting remains uniform\n",
    "%matplotlib inline \n",
    "pd.set_option('display.max_colwidth', None)\n",
    "matplotlib.rcParams[\"font.size\"] = 13 # don't use value > 13! Otherwise your y-axis tick labels will be different."
   ]
  },
  {
   "cell_type": "code",
   "execution_count": 6,
   "id": "e4eac640",
   "metadata": {
    "tags": []
   },
   "outputs": [],
   "source": [
    "# copy/paste the definition of the function 'bar_plot' from lab-p13 here\n",
    "def bar_plot(df, x, y):\n",
    "    ax = df.plot.bar(color='black', legend=False, x=x, y=y)\n",
    "    ax.set_xlabel(x)\n",
    "    ax.set_ylabel(y)"
   ]
  },
  {
   "cell_type": "code",
   "execution_count": 7,
   "id": "71c71935",
   "metadata": {
    "tags": []
   },
   "outputs": [],
   "source": [
    "# copy/paste the definition of the function 'scatter_plot' from lab-p13 here\n",
    "def scatter_plot(df, x, y):\n",
    "    ax = df.plot.scatter(color='black', legend=False, x=x, y=y)\n",
    "    ax.set_xlabel(x)\n",
    "    ax.set_ylabel(y)"
   ]
  },
  {
   "cell_type": "code",
   "execution_count": 8,
   "id": "153b23ad",
   "metadata": {
    "tags": []
   },
   "outputs": [],
   "source": [
    "# copy/paste the definition of the function 'horizontal_bar_plot' from lab-p13 here\n",
    "def horizontal_bar_plot(df, x):\n",
    "    df = df.set_index(x)\n",
    "    ax = df.plot.barh()\n",
    "    ax.legend(loc='center left', bbox_to_anchor=(1, 0.9))"
   ]
  },
  {
   "cell_type": "code",
   "execution_count": 9,
   "id": "1f6d37df",
   "metadata": {
    "tags": []
   },
   "outputs": [],
   "source": [
    "# copy/paste the definition of the function 'pie_plot' from lab-p13 here\n",
    "def pie_plot(df, x, y, title=None):\n",
    "    df = df.set_index(x)\n",
    "    ax = df.plot.pie(y=y, legend=False)\n",
    "    ax.set_ylabel(None)\n",
    "    ax.set_title(title)"
   ]
  },
  {
   "cell_type": "code",
   "execution_count": 10,
   "id": "88255766",
   "metadata": {
    "tags": []
   },
   "outputs": [],
   "source": [
    "# copy/paste the definition of the function 'get_regression_coeff' from lab-p13 here\n",
    "def get_regression_coeff(df, x, y):\n",
    "    df[\"1\"] = 1\n",
    "    res = np.linalg.lstsq(df[[x, \"1\"]], df[y], rcond=None)\n",
    "    coefficients = res[0]\n",
    "    m = coefficients[0]\n",
    "    b = coefficients[1]\n",
    "    return (m, b)"
   ]
  },
  {
   "cell_type": "code",
   "execution_count": 11,
   "id": "8119a0ec",
   "metadata": {
    "tags": []
   },
   "outputs": [],
   "source": [
    "# copy/paste the definition of the function 'get_regression_line' from lab-p13 here\n",
    "def get_regression_line(df, x, y):\n",
    "    coeff = get_regression_coeff(df, x, y)\n",
    "    m = coeff[0]\n",
    "    b = coeff[1]\n",
    "    df['fit'] = m * df[x] + b\n",
    "    \n",
    "    return df"
   ]
  },
  {
   "cell_type": "code",
   "execution_count": 12,
   "id": "13851f7d",
   "metadata": {
    "tags": []
   },
   "outputs": [],
   "source": [
    "# copy/paste the definition of the function 'regression_line_plot' from lab-p13 here\n",
    "def regression_line_plot(df, x, y):\n",
    "    \"\"\"regression_line_plot(df, x, y) takes in a DataFrame 'df' and displays\n",
    "    a scatter plot with the column 'x' as the x-axis, and the column\n",
    "    'y' as the y-axis, as well as the best fit line for the plot\"\"\"\n",
    "#     pass # replace with your code\n",
    "    # TODO: use 'get_regression_line' to get the data for the best fit line.\n",
    "    regression_line = get_regression_line(df, x, y)\n",
    "    # TODO: use df.plot.scatter (not scatter_plot) to plot the x and y columns\n",
    "    #       of 'df' in black color.\n",
    "    ax = regression_line.plot.scatter(color='black', legend=False, x=x, y=y)\n",
    "    \n",
    "    # TODO: save the return value of df.plot.scatter to a variable called 'ax'\n",
    "    \n",
    "    \n",
    "    # TODO: use df.plot.line to plot the fitted line in red,\n",
    "    #       using ax=ax as a keyword argument.\n",
    "    #       this ensures that both the scatter plot and line end up on the same plot\n",
    "    #       play careful attention to what the 'x' and 'y' arguments ought to be\n",
    "    \n",
    "    \n",
    "    regression_line.plot.line(color='red', legend=False, x=x, y='fit', ax=ax)"
   ]
  },
  {
   "cell_type": "code",
   "execution_count": 13,
   "id": "c12776a3",
   "metadata": {
    "tags": []
   },
   "outputs": [],
   "source": [
    "# copy/paste the definition of the function 'download' from p12 here\n",
    "def download(url, filename):\n",
    "    \n",
    "    if os.path.exists(filename):\n",
    "        return (str(filename) + \" already exists!\")\n",
    "    \n",
    "    res = requests.get(url)\n",
    "    if res.status_code != 200:\n",
    "        res.raise_for_status()\n",
    "    the_text = res.text\n",
    "    file = open(filename, \"w\")\n",
    "    file.write(the_text)\n",
    "    file.close()\n",
    "    return (str(filename) + \" created!\")"
   ]
  },
  {
   "cell_type": "code",
   "execution_count": 14,
   "id": "f4fbd661",
   "metadata": {
    "tags": []
   },
   "outputs": [
    {
     "data": {
      "text/plain": [
       "'QSranking.json already exists!'"
      ]
     },
     "execution_count": 14,
     "metadata": {},
     "output_type": "execute_result"
    }
   ],
   "source": [
    "# use the 'download' function to download the data from the webpage\n",
    "# 'https://git.doit.wisc.edu/cdis/cs/courses/cs220/cs220-s23-projects/-/raw/main/p13/QSranking.json'\n",
    "# to the file 'QSranking.json'\n",
    "download('https://git.doit.wisc.edu/cdis/cs/courses/cs220/cs220-s23-projects/-/raw/main/p13/QSranking.json', \"QSranking.json\")"
   ]
  },
  {
   "cell_type": "markdown",
   "id": "40f76941",
   "metadata": {
    "deletable": false,
    "editable": false
   },
   "source": [
    "### Data Structure 1: `conn`\n",
    "\n",
    "You **must** now create a **database** called `rankings.db` out of `QSranking.json`, connect to it, and save it in a variable called `conn`. You **must** use this connection to the database `rankings.db` to answer the questions that follow."
   ]
  },
  {
   "cell_type": "code",
   "execution_count": 15,
   "id": "8de4b158",
   "metadata": {
    "lines_to_next_cell": 0,
    "tags": []
   },
   "outputs": [
    {
     "data": {
      "text/plain": [
       "1201"
      ]
     },
     "execution_count": 15,
     "metadata": {},
     "output_type": "execute_result"
    }
   ],
   "source": [
    "# create a database called 'rankings.db' out of 'QSranking.json'\n",
    "\n",
    "# TODO: load the data from 'QSranking.json' into a variable called 'qs_ranking' using pandas' 'read_json' function\n",
    "qs_ranking = pd.read_json('QSranking.json')\n",
    "# TODO: connect to 'rankings.db' and save it to a variable called 'conn'\n",
    "conn = sqlite3.connect('rankings.db')\n",
    "# TODO: write the contents of the DataFrame 'qs_ranking' to the sqlite database\n",
    "qs_ranking.to_sql(\"rankings\", conn, if_exists=\"replace\", index=False)"
   ]
  },
  {
   "cell_type": "code",
   "execution_count": 16,
   "id": "9f28e183",
   "metadata": {
    "tags": []
   },
   "outputs": [
    {
     "data": {
      "text/html": [
       "<div>\n",
       "<style scoped>\n",
       "    .dataframe tbody tr th:only-of-type {\n",
       "        vertical-align: middle;\n",
       "    }\n",
       "\n",
       "    .dataframe tbody tr th {\n",
       "        vertical-align: top;\n",
       "    }\n",
       "\n",
       "    .dataframe thead th {\n",
       "        text-align: right;\n",
       "    }\n",
       "</style>\n",
       "<table border=\"1\" class=\"dataframe\">\n",
       "  <thead>\n",
       "    <tr style=\"text-align: right;\">\n",
       "      <th></th>\n",
       "      <th>rank</th>\n",
       "      <th>year</th>\n",
       "      <th>institution_name</th>\n",
       "      <th>country</th>\n",
       "      <th>academic_reputation</th>\n",
       "      <th>employer_reputation</th>\n",
       "      <th>faculty_student_score</th>\n",
       "      <th>citations_per_faculty</th>\n",
       "      <th>international_faculty</th>\n",
       "      <th>international_students</th>\n",
       "      <th>overall_score</th>\n",
       "    </tr>\n",
       "  </thead>\n",
       "  <tbody>\n",
       "    <tr>\n",
       "      <th>0</th>\n",
       "      <td>1</td>\n",
       "      <td>2018</td>\n",
       "      <td>Massachusetts Institute Of Technology</td>\n",
       "      <td>United States</td>\n",
       "      <td>100.0</td>\n",
       "      <td>100.0</td>\n",
       "      <td>100.0</td>\n",
       "      <td>99.9</td>\n",
       "      <td>100.0</td>\n",
       "      <td>96.1</td>\n",
       "      <td>100.0</td>\n",
       "    </tr>\n",
       "    <tr>\n",
       "      <th>1</th>\n",
       "      <td>2</td>\n",
       "      <td>2018</td>\n",
       "      <td>Stanford University</td>\n",
       "      <td>United States</td>\n",
       "      <td>100.0</td>\n",
       "      <td>100.0</td>\n",
       "      <td>100.0</td>\n",
       "      <td>99.4</td>\n",
       "      <td>99.6</td>\n",
       "      <td>72.7</td>\n",
       "      <td>98.7</td>\n",
       "    </tr>\n",
       "    <tr>\n",
       "      <th>2</th>\n",
       "      <td>3</td>\n",
       "      <td>2018</td>\n",
       "      <td>Harvard University</td>\n",
       "      <td>United States</td>\n",
       "      <td>100.0</td>\n",
       "      <td>100.0</td>\n",
       "      <td>98.3</td>\n",
       "      <td>99.9</td>\n",
       "      <td>96.5</td>\n",
       "      <td>75.2</td>\n",
       "      <td>98.4</td>\n",
       "    </tr>\n",
       "    <tr>\n",
       "      <th>3</th>\n",
       "      <td>4</td>\n",
       "      <td>2018</td>\n",
       "      <td>California Institute Of Technology</td>\n",
       "      <td>United States</td>\n",
       "      <td>99.5</td>\n",
       "      <td>85.4</td>\n",
       "      <td>100.0</td>\n",
       "      <td>100.0</td>\n",
       "      <td>93.4</td>\n",
       "      <td>89.2</td>\n",
       "      <td>97.7</td>\n",
       "    </tr>\n",
       "    <tr>\n",
       "      <th>4</th>\n",
       "      <td>5</td>\n",
       "      <td>2018</td>\n",
       "      <td>University Of Cambridge</td>\n",
       "      <td>United Kingdom</td>\n",
       "      <td>100.0</td>\n",
       "      <td>100.0</td>\n",
       "      <td>100.0</td>\n",
       "      <td>78.3</td>\n",
       "      <td>97.4</td>\n",
       "      <td>97.7</td>\n",
       "      <td>95.6</td>\n",
       "    </tr>\n",
       "  </tbody>\n",
       "</table>\n",
       "</div>"
      ],
      "text/plain": [
       "   rank  year                       institution_name         country  \\\n",
       "0     1  2018  Massachusetts Institute Of Technology   United States   \n",
       "1     2  2018                    Stanford University   United States   \n",
       "2     3  2018                     Harvard University   United States   \n",
       "3     4  2018     California Institute Of Technology   United States   \n",
       "4     5  2018                University Of Cambridge  United Kingdom   \n",
       "\n",
       "   academic_reputation  employer_reputation  faculty_student_score  \\\n",
       "0                100.0                100.0                  100.0   \n",
       "1                100.0                100.0                  100.0   \n",
       "2                100.0                100.0                   98.3   \n",
       "3                 99.5                 85.4                  100.0   \n",
       "4                100.0                100.0                  100.0   \n",
       "\n",
       "   citations_per_faculty  international_faculty  international_students  \\\n",
       "0                   99.9                  100.0                    96.1   \n",
       "1                   99.4                   99.6                    72.7   \n",
       "2                   99.9                   96.5                    75.2   \n",
       "3                  100.0                   93.4                    89.2   \n",
       "4                   78.3                   97.4                    97.7   \n",
       "\n",
       "   overall_score  \n",
       "0          100.0  \n",
       "1           98.7  \n",
       "2           98.4  \n",
       "3           97.7  \n",
       "4           95.6  "
      ]
     },
     "execution_count": 16,
     "metadata": {},
     "output_type": "execute_result"
    }
   ],
   "source": [
    "# run this cell and confirm that you have defined the variables correctly\n",
    "\n",
    "pd.read_sql(\"SELECT * FROM rankings LIMIT 5\", conn)"
   ]
  },
  {
   "cell_type": "markdown",
   "id": "d31f5dd9",
   "metadata": {
    "deletable": false,
    "editable": false
   },
   "source": [
    "**Question 1:** List **all** the statistics of the institution with the `institution_name` *University Of Wisconsin-Madison*. \n",
    "\n",
    "You **must** display **all** the columns. The rows **must** be in *ascending* order of `year`.\n",
    "\n",
    "Your output **must** be a **DataFrame** that looks like this:\n",
    "\n",
    "||**rank**|**year**|**institution_name**|**country**|**academic_reputation**|**employer_reputation**|**faculty_student_score**|**citations_per_faculty**|**international_faculty**|**international_students**|**overall_score**|\n",
    "|---|---|---|---|---|---|---|---|---|---|---|---|\n",
    "|**0**|55|2018|University Of Wisconsin-Madison|United States|94.0|62.1|84.0|54.2|53.2|30.9|75.8|\n",
    "|**1**|53|2019|University Of Wisconsin-Madison|United States|88.5|51.2|87.4|52.6|58.8|30.6|73.2|\n",
    "|**2**|56|2020|University Of Wisconsin-Madison|United States|87.8|49.7|85.5|50.0|57.2|30.9|71.8|"
   ]
  },
  {
   "cell_type": "code",
   "execution_count": 17,
   "id": "8eefb54f",
   "metadata": {
    "tags": []
   },
   "outputs": [
    {
     "data": {
      "text/html": [
       "<div>\n",
       "<style scoped>\n",
       "    .dataframe tbody tr th:only-of-type {\n",
       "        vertical-align: middle;\n",
       "    }\n",
       "\n",
       "    .dataframe tbody tr th {\n",
       "        vertical-align: top;\n",
       "    }\n",
       "\n",
       "    .dataframe thead th {\n",
       "        text-align: right;\n",
       "    }\n",
       "</style>\n",
       "<table border=\"1\" class=\"dataframe\">\n",
       "  <thead>\n",
       "    <tr style=\"text-align: right;\">\n",
       "      <th></th>\n",
       "      <th>rank</th>\n",
       "      <th>year</th>\n",
       "      <th>institution_name</th>\n",
       "      <th>country</th>\n",
       "      <th>academic_reputation</th>\n",
       "      <th>employer_reputation</th>\n",
       "      <th>faculty_student_score</th>\n",
       "      <th>citations_per_faculty</th>\n",
       "      <th>international_faculty</th>\n",
       "      <th>international_students</th>\n",
       "      <th>overall_score</th>\n",
       "    </tr>\n",
       "  </thead>\n",
       "  <tbody>\n",
       "    <tr>\n",
       "      <th>0</th>\n",
       "      <td>55</td>\n",
       "      <td>2018</td>\n",
       "      <td>University Of Wisconsin-Madison</td>\n",
       "      <td>United States</td>\n",
       "      <td>94.0</td>\n",
       "      <td>62.1</td>\n",
       "      <td>84.0</td>\n",
       "      <td>54.2</td>\n",
       "      <td>53.2</td>\n",
       "      <td>30.9</td>\n",
       "      <td>75.8</td>\n",
       "    </tr>\n",
       "    <tr>\n",
       "      <th>1</th>\n",
       "      <td>53</td>\n",
       "      <td>2019</td>\n",
       "      <td>University Of Wisconsin-Madison</td>\n",
       "      <td>United States</td>\n",
       "      <td>88.5</td>\n",
       "      <td>51.2</td>\n",
       "      <td>87.4</td>\n",
       "      <td>52.6</td>\n",
       "      <td>58.8</td>\n",
       "      <td>30.6</td>\n",
       "      <td>73.2</td>\n",
       "    </tr>\n",
       "    <tr>\n",
       "      <th>2</th>\n",
       "      <td>56</td>\n",
       "      <td>2020</td>\n",
       "      <td>University Of Wisconsin-Madison</td>\n",
       "      <td>United States</td>\n",
       "      <td>87.8</td>\n",
       "      <td>49.7</td>\n",
       "      <td>85.5</td>\n",
       "      <td>50.0</td>\n",
       "      <td>57.2</td>\n",
       "      <td>30.9</td>\n",
       "      <td>71.8</td>\n",
       "    </tr>\n",
       "  </tbody>\n",
       "</table>\n",
       "</div>"
      ],
      "text/plain": [
       "   rank  year                 institution_name        country  \\\n",
       "0    55  2018  University Of Wisconsin-Madison  United States   \n",
       "1    53  2019  University Of Wisconsin-Madison  United States   \n",
       "2    56  2020  University Of Wisconsin-Madison  United States   \n",
       "\n",
       "   academic_reputation  employer_reputation  faculty_student_score  \\\n",
       "0                 94.0                 62.1                   84.0   \n",
       "1                 88.5                 51.2                   87.4   \n",
       "2                 87.8                 49.7                   85.5   \n",
       "\n",
       "   citations_per_faculty  international_faculty  international_students  \\\n",
       "0                   54.2                   53.2                    30.9   \n",
       "1                   52.6                   58.8                    30.6   \n",
       "2                   50.0                   57.2                    30.9   \n",
       "\n",
       "   overall_score  \n",
       "0           75.8  \n",
       "1           73.2  \n",
       "2           71.8  "
      ]
     },
     "execution_count": 17,
     "metadata": {},
     "output_type": "execute_result"
    }
   ],
   "source": [
    "# compute and store the answer in the variable 'uw_rating', then display it\n",
    "uw_rating = pd.read_sql(\"SELECT * FROM rankings WHERE `institution_name` = 'University Of Wisconsin-Madison'\", conn)\n",
    "uw_rating"
   ]
  },
  {
   "cell_type": "code",
   "execution_count": 18,
   "id": "6a51b275",
   "metadata": {
    "deletable": false,
    "editable": false
   },
   "outputs": [
    {
     "data": {
      "text/html": [
       "<p><strong><pre style='display: inline;'>q1</pre></strong> passed! 🎉</p>"
      ],
      "text/plain": [
       "q1 results: All test cases passed!"
      ]
     },
     "execution_count": 18,
     "metadata": {},
     "output_type": "execute_result"
    }
   ],
   "source": [
    "grader.check(\"q1\")"
   ]
  },
  {
   "cell_type": "markdown",
   "id": "587fd6d2",
   "metadata": {
    "deletable": false,
    "editable": false
   },
   "source": [
    "**Question 2:** What are the **top** *10* institutions in *Japan* which had the **highest** score of `international_students` in the `year` *2020*?\n",
    "\n",
    "You **must** display the columns `institution_name` and `international_students`. The rows **must** be in *descending* order of `international_students`.\n",
    "\n",
    "Your output **must** be a **DataFrame** that looks like this:\n",
    "\n",
    "||**institution_name**|**international_students**|\n",
    "|---------|------|---------|\n",
    "|**0**|Waseda University|35.8|\n",
    "|**1**|Tokyo Institute Of Technology|31.3|\n",
    "|**2**|University Of Tsukuba|30.4|\n",
    "|**3**|The University of Tokyo|26.2|\n",
    "|**4**|Kyushu University|21.5|\n",
    "|**5**|Nagoya University|21.3|\n",
    "|**6**|Tohoku University|17.6|\n",
    "|**7**|Kyoto University|17.5|\n",
    "|**8**|Hiroshima University|17.1|\n",
    "|**9**|Tokyo Medical and Dental University|16.7|"
   ]
  },
  {
   "cell_type": "code",
   "execution_count": 19,
   "id": "b72f2999",
   "metadata": {
    "tags": []
   },
   "outputs": [
    {
     "data": {
      "text/html": [
       "<div>\n",
       "<style scoped>\n",
       "    .dataframe tbody tr th:only-of-type {\n",
       "        vertical-align: middle;\n",
       "    }\n",
       "\n",
       "    .dataframe tbody tr th {\n",
       "        vertical-align: top;\n",
       "    }\n",
       "\n",
       "    .dataframe thead th {\n",
       "        text-align: right;\n",
       "    }\n",
       "</style>\n",
       "<table border=\"1\" class=\"dataframe\">\n",
       "  <thead>\n",
       "    <tr style=\"text-align: right;\">\n",
       "      <th></th>\n",
       "      <th>institution_name</th>\n",
       "      <th>international_students</th>\n",
       "    </tr>\n",
       "  </thead>\n",
       "  <tbody>\n",
       "    <tr>\n",
       "      <th>0</th>\n",
       "      <td>Waseda University</td>\n",
       "      <td>35.8</td>\n",
       "    </tr>\n",
       "    <tr>\n",
       "      <th>1</th>\n",
       "      <td>Tokyo Institute Of Technology</td>\n",
       "      <td>31.3</td>\n",
       "    </tr>\n",
       "    <tr>\n",
       "      <th>2</th>\n",
       "      <td>University Of Tsukuba</td>\n",
       "      <td>30.4</td>\n",
       "    </tr>\n",
       "    <tr>\n",
       "      <th>3</th>\n",
       "      <td>The University Of Tokyo</td>\n",
       "      <td>26.2</td>\n",
       "    </tr>\n",
       "    <tr>\n",
       "      <th>4</th>\n",
       "      <td>Kyushu University</td>\n",
       "      <td>21.5</td>\n",
       "    </tr>\n",
       "    <tr>\n",
       "      <th>5</th>\n",
       "      <td>Nagoya University</td>\n",
       "      <td>21.3</td>\n",
       "    </tr>\n",
       "    <tr>\n",
       "      <th>6</th>\n",
       "      <td>Tohoku University</td>\n",
       "      <td>17.6</td>\n",
       "    </tr>\n",
       "    <tr>\n",
       "      <th>7</th>\n",
       "      <td>Kyoto University</td>\n",
       "      <td>17.5</td>\n",
       "    </tr>\n",
       "    <tr>\n",
       "      <th>8</th>\n",
       "      <td>Hiroshima University</td>\n",
       "      <td>17.1</td>\n",
       "    </tr>\n",
       "    <tr>\n",
       "      <th>9</th>\n",
       "      <td>Tokyo Medical And Dental University</td>\n",
       "      <td>16.7</td>\n",
       "    </tr>\n",
       "  </tbody>\n",
       "</table>\n",
       "</div>"
      ],
      "text/plain": [
       "                      institution_name  international_students\n",
       "0                    Waseda University                    35.8\n",
       "1        Tokyo Institute Of Technology                    31.3\n",
       "2                University Of Tsukuba                    30.4\n",
       "3              The University Of Tokyo                    26.2\n",
       "4                    Kyushu University                    21.5\n",
       "5                    Nagoya University                    21.3\n",
       "6                    Tohoku University                    17.6\n",
       "7                     Kyoto University                    17.5\n",
       "8                 Hiroshima University                    17.1\n",
       "9  Tokyo Medical And Dental University                    16.7"
      ]
     },
     "execution_count": 19,
     "metadata": {},
     "output_type": "execute_result"
    }
   ],
   "source": [
    "# compute and store the answer in the variable 'japan_top_10_inter', then display it\n",
    "japan_top_10_inter = pd.read_sql(\"SELECT institution_name, international_students FROM rankings WHERE `country` = 'Japan' AND `year` = 2020 ORDER BY `international_students` DESC LIMIT 10\", conn)\n",
    "japan_top_10_inter"
   ]
  },
  {
   "cell_type": "code",
   "execution_count": 20,
   "id": "f06aaae0",
   "metadata": {
    "deletable": false,
    "editable": false
   },
   "outputs": [
    {
     "data": {
      "text/html": [
       "<p><strong><pre style='display: inline;'>q2</pre></strong> passed! 🎉</p>"
      ],
      "text/plain": [
       "q2 results: All test cases passed!"
      ]
     },
     "execution_count": 20,
     "metadata": {},
     "output_type": "execute_result"
    }
   ],
   "source": [
    "grader.check(\"q2\")"
   ]
  },
  {
   "cell_type": "markdown",
   "id": "341ac4b8",
   "metadata": {
    "deletable": false,
    "editable": false
   },
   "source": [
    "**Question 3:** What are the **top** *10* institutions in the *United States* which had the **highest** *reputation* in the `year` *2019*?\n",
    "\n",
    "The `reputation` of an institution is defined as the sum of `academic_reputation` and `employer_reputation`. You **must** display the columns `institution_name` and `reputation`. The rows **must** be in *descending* order of `reputation`. In case the `reputation` is tied, the rows must be in *alphabetical* order of `institution_name`.\n",
    "\n",
    "Your output **must** be a **DataFrame** that looks like this:\n",
    "\n",
    "||**institution_name**|**reputation**|\n",
    "|---------|------|---------|\n",
    "|**0**|Harvard University|200.0|\n",
    "|**1**|Massachusetts Institute Of Technology|200.0|\n",
    "|**2**|Stanford University|200.0|\n",
    "|**3**|University Of California, Berkeley|199.8|\n",
    "|**4**|Yale University|199.6|\n",
    "|**5**|University Of California, Los Angeles|199.1|\n",
    "|**6**|Columbia University|197.1|\n",
    "|**7**|Princeton University|196.6|\n",
    "|**8**|University Of Chicago|190.3|\n",
    "|**9**|Cornell University|189.2|\n",
    "\n",
    "**Hint:** You can use mathematical expressions in your **SELECT** clause. For example, if you wish to add the `academic_reputation` and `employer_reputation` for each institution, you could use the following query:\n",
    "\n",
    "```sql\n",
    "SELECT (`academic_reputation` + `employer_reputation`) FROM rankings\n",
    "```"
   ]
  },
  {
   "cell_type": "code",
   "execution_count": 21,
   "id": "271b86d7",
   "metadata": {
    "tags": []
   },
   "outputs": [
    {
     "data": {
      "text/html": [
       "<div>\n",
       "<style scoped>\n",
       "    .dataframe tbody tr th:only-of-type {\n",
       "        vertical-align: middle;\n",
       "    }\n",
       "\n",
       "    .dataframe tbody tr th {\n",
       "        vertical-align: top;\n",
       "    }\n",
       "\n",
       "    .dataframe thead th {\n",
       "        text-align: right;\n",
       "    }\n",
       "</style>\n",
       "<table border=\"1\" class=\"dataframe\">\n",
       "  <thead>\n",
       "    <tr style=\"text-align: right;\">\n",
       "      <th></th>\n",
       "      <th>institution_name</th>\n",
       "      <th>reputation</th>\n",
       "    </tr>\n",
       "  </thead>\n",
       "  <tbody>\n",
       "    <tr>\n",
       "      <th>0</th>\n",
       "      <td>Harvard University</td>\n",
       "      <td>200.0</td>\n",
       "    </tr>\n",
       "    <tr>\n",
       "      <th>1</th>\n",
       "      <td>Massachusetts Institute Of Technology</td>\n",
       "      <td>200.0</td>\n",
       "    </tr>\n",
       "    <tr>\n",
       "      <th>2</th>\n",
       "      <td>Stanford University</td>\n",
       "      <td>200.0</td>\n",
       "    </tr>\n",
       "    <tr>\n",
       "      <th>3</th>\n",
       "      <td>University Of California, Berkeley</td>\n",
       "      <td>199.8</td>\n",
       "    </tr>\n",
       "    <tr>\n",
       "      <th>4</th>\n",
       "      <td>Yale University</td>\n",
       "      <td>199.6</td>\n",
       "    </tr>\n",
       "    <tr>\n",
       "      <th>5</th>\n",
       "      <td>University Of California, Los Angeles</td>\n",
       "      <td>199.1</td>\n",
       "    </tr>\n",
       "    <tr>\n",
       "      <th>6</th>\n",
       "      <td>Columbia University</td>\n",
       "      <td>197.1</td>\n",
       "    </tr>\n",
       "    <tr>\n",
       "      <th>7</th>\n",
       "      <td>Princeton University</td>\n",
       "      <td>196.6</td>\n",
       "    </tr>\n",
       "    <tr>\n",
       "      <th>8</th>\n",
       "      <td>University Of Chicago</td>\n",
       "      <td>190.3</td>\n",
       "    </tr>\n",
       "    <tr>\n",
       "      <th>9</th>\n",
       "      <td>Cornell University</td>\n",
       "      <td>189.2</td>\n",
       "    </tr>\n",
       "  </tbody>\n",
       "</table>\n",
       "</div>"
      ],
      "text/plain": [
       "                        institution_name  reputation\n",
       "0                     Harvard University       200.0\n",
       "1  Massachusetts Institute Of Technology       200.0\n",
       "2                    Stanford University       200.0\n",
       "3     University Of California, Berkeley       199.8\n",
       "4                        Yale University       199.6\n",
       "5  University Of California, Los Angeles       199.1\n",
       "6                    Columbia University       197.1\n",
       "7                   Princeton University       196.6\n",
       "8                  University Of Chicago       190.3\n",
       "9                     Cornell University       189.2"
      ]
     },
     "execution_count": 21,
     "metadata": {},
     "output_type": "execute_result"
    }
   ],
   "source": [
    "# compute and store the answer in the variable 'us_top_10_rep', then display it\n",
    "us_top_10_rep  = pd.read_sql(\"\"\"\n",
    "SELECT institution_name, (`academic_reputation` + `employer_reputation`) as reputation \n",
    "FROM rankings \n",
    "WHERE country = 'United States' AND year = 2019 \n",
    "ORDER BY reputation DESC, institution_name ASC \n",
    "LIMIT 10\"\"\", conn)\n",
    "us_top_10_rep"
   ]
  },
  {
   "cell_type": "code",
   "execution_count": 22,
   "id": "96cacdd4",
   "metadata": {
    "deletable": false,
    "editable": false
   },
   "outputs": [
    {
     "data": {
      "text/html": [
       "<p><strong><pre style='display: inline;'>q3</pre></strong> passed! 🌟</p>"
      ],
      "text/plain": [
       "q3 results: All test cases passed!"
      ]
     },
     "execution_count": 22,
     "metadata": {},
     "output_type": "execute_result"
    }
   ],
   "source": [
    "grader.check(\"q3\")"
   ]
  },
  {
   "cell_type": "markdown",
   "id": "21ba8c82",
   "metadata": {
    "deletable": false,
    "editable": false
   },
   "source": [
    "**Question 4:** What are the **top** *10* countries which had the **most** *institutions* listed in the `year` *2020*?\n",
    "\n",
    "You **must** display the columns `country` and `num_of_institutions`. The `num_of_institutions` of a country is defined as the number of institutions from that country. The rows **must** be in *descending* order of `num_of_institutions`. In case the `num_of_institutions` is tied, the rows must be in *alphabetical* order of `country`.\n",
    "\n",
    "**Hint:** You **must** use the `COUNT` SQL function to answer this question.\n",
    "\n",
    "Your output **must** be a **DataFrame** that looks like this:\n",
    "\n",
    "||**country**|**num_of_institutions**|\n",
    "|---------|------|---------|\n",
    "|**0**|United States|74|\n",
    "|**1**|United Kingdom|45|\n",
    "|**2**|Germany|23|\n",
    "|**3**|Australia|21|\n",
    "|**4**|Canada|14|\n",
    "|**5**|China|14|\n",
    "|**6**|France|14|\n",
    "|**7**|Japan|14|\n",
    "|**8**|Netherlands|13|\n",
    "|**9**|Russia|13|"
   ]
  },
  {
   "cell_type": "code",
   "execution_count": 23,
   "id": "1991dc45",
   "metadata": {
    "tags": []
   },
   "outputs": [
    {
     "data": {
      "text/html": [
       "<div>\n",
       "<style scoped>\n",
       "    .dataframe tbody tr th:only-of-type {\n",
       "        vertical-align: middle;\n",
       "    }\n",
       "\n",
       "    .dataframe tbody tr th {\n",
       "        vertical-align: top;\n",
       "    }\n",
       "\n",
       "    .dataframe thead th {\n",
       "        text-align: right;\n",
       "    }\n",
       "</style>\n",
       "<table border=\"1\" class=\"dataframe\">\n",
       "  <thead>\n",
       "    <tr style=\"text-align: right;\">\n",
       "      <th></th>\n",
       "      <th>country</th>\n",
       "      <th>num_of_institutions</th>\n",
       "    </tr>\n",
       "  </thead>\n",
       "  <tbody>\n",
       "    <tr>\n",
       "      <th>0</th>\n",
       "      <td>United States</td>\n",
       "      <td>74</td>\n",
       "    </tr>\n",
       "    <tr>\n",
       "      <th>1</th>\n",
       "      <td>United Kingdom</td>\n",
       "      <td>45</td>\n",
       "    </tr>\n",
       "    <tr>\n",
       "      <th>2</th>\n",
       "      <td>Germany</td>\n",
       "      <td>23</td>\n",
       "    </tr>\n",
       "    <tr>\n",
       "      <th>3</th>\n",
       "      <td>Australia</td>\n",
       "      <td>21</td>\n",
       "    </tr>\n",
       "    <tr>\n",
       "      <th>4</th>\n",
       "      <td>Canada</td>\n",
       "      <td>14</td>\n",
       "    </tr>\n",
       "    <tr>\n",
       "      <th>5</th>\n",
       "      <td>China</td>\n",
       "      <td>14</td>\n",
       "    </tr>\n",
       "    <tr>\n",
       "      <th>6</th>\n",
       "      <td>France</td>\n",
       "      <td>14</td>\n",
       "    </tr>\n",
       "    <tr>\n",
       "      <th>7</th>\n",
       "      <td>Japan</td>\n",
       "      <td>14</td>\n",
       "    </tr>\n",
       "    <tr>\n",
       "      <th>8</th>\n",
       "      <td>Netherlands</td>\n",
       "      <td>13</td>\n",
       "    </tr>\n",
       "    <tr>\n",
       "      <th>9</th>\n",
       "      <td>Russia</td>\n",
       "      <td>13</td>\n",
       "    </tr>\n",
       "  </tbody>\n",
       "</table>\n",
       "</div>"
      ],
      "text/plain": [
       "          country  num_of_institutions\n",
       "0   United States                   74\n",
       "1  United Kingdom                   45\n",
       "2         Germany                   23\n",
       "3       Australia                   21\n",
       "4          Canada                   14\n",
       "5           China                   14\n",
       "6          France                   14\n",
       "7           Japan                   14\n",
       "8     Netherlands                   13\n",
       "9          Russia                   13"
      ]
     },
     "execution_count": 23,
     "metadata": {},
     "output_type": "execute_result"
    }
   ],
   "source": [
    "# compute and store the answer in the variable 'top_10_countries', then display it\n",
    "top_10_countries = pd.read_sql(\"SELECT country, COUNT(*) as num_of_institutions FROM rankings WHERE year = 2020 GROUP BY country ORDER BY num_of_institutions DESC, country ASC LIMIT 10\", conn)\n",
    "\n",
    "top_10_countries"
   ]
  },
  {
   "cell_type": "code",
   "execution_count": 24,
   "id": "3e878347",
   "metadata": {
    "deletable": false,
    "editable": false
   },
   "outputs": [
    {
     "data": {
      "text/html": [
       "<p><strong><pre style='display: inline;'>q4</pre></strong> passed! 🌟</p>"
      ],
      "text/plain": [
       "q4 results: All test cases passed!"
      ]
     },
     "execution_count": 24,
     "metadata": {},
     "output_type": "execute_result"
    }
   ],
   "source": [
    "grader.check(\"q4\")"
   ]
  },
  {
   "cell_type": "markdown",
   "id": "6ef62b90",
   "metadata": {
    "deletable": false,
    "editable": false
   },
   "source": [
    "**Question 5:** Create a **bar plot** using the data from Question 4 with the `country` on the **x-axis** and the `num_of_institutions` on the **y-axis**.\n",
    "\n",
    "In addition to the top ten countries, you **must** also aggregate the data for **all** the **other** countries, and represent that number in the column `Other`. You are **allowed** do this using any combination of  SQL queries and pandas operations.\n",
    "\n",
    "You **must** first compute a **DataFrame** `num_institutions` containing the **country**, and the **num_of_institutions** data.\n",
    "\n",
    "**Hint**: You can use the `append` function of a DataFrame to add a single row to the end of your **DataFrame** from Question 4. You'll also need the keyword argument `ignore_index=True`. For example:\n",
    "\n",
    "```python\n",
    "my_new_dataframe = my_dataframe.append({\"country\": \"CS220\", \"num_of_institutions\": 22}, ignore_index=True)\n",
    "```\n",
    "will create a *new* **DataFrame** `my_new_dataframe` which contains all the rows from `my_dataframe`, along with the **additional row** which has been appended. You can **ignore** any warnings about `append` being deprecated."
   ]
  },
  {
   "cell_type": "code",
   "execution_count": 25,
   "id": "a0b3223c",
   "metadata": {
    "tags": []
   },
   "outputs": [
    {
     "name": "stderr",
     "output_type": "stream",
     "text": [
      "C:\\Users\\Charlie Yifan Cheng\\AppData\\Local\\Temp\\ipykernel_17712\\1395246533.py:16: FutureWarning: The frame.append method is deprecated and will be removed from pandas in a future version. Use pandas.concat instead.\n",
      "  num_institutions = top_10_countries.append({\"country\": \"Other\", \"num_of_institutions\": sum_institutions_after_10}, ignore_index=True)\n"
     ]
    },
    {
     "data": {
      "text/html": [
       "<div>\n",
       "<style scoped>\n",
       "    .dataframe tbody tr th:only-of-type {\n",
       "        vertical-align: middle;\n",
       "    }\n",
       "\n",
       "    .dataframe tbody tr th {\n",
       "        vertical-align: top;\n",
       "    }\n",
       "\n",
       "    .dataframe thead th {\n",
       "        text-align: right;\n",
       "    }\n",
       "</style>\n",
       "<table border=\"1\" class=\"dataframe\">\n",
       "  <thead>\n",
       "    <tr style=\"text-align: right;\">\n",
       "      <th></th>\n",
       "      <th>country</th>\n",
       "      <th>num_of_institutions</th>\n",
       "    </tr>\n",
       "  </thead>\n",
       "  <tbody>\n",
       "    <tr>\n",
       "      <th>0</th>\n",
       "      <td>United States</td>\n",
       "      <td>74</td>\n",
       "    </tr>\n",
       "    <tr>\n",
       "      <th>1</th>\n",
       "      <td>United Kingdom</td>\n",
       "      <td>45</td>\n",
       "    </tr>\n",
       "    <tr>\n",
       "      <th>2</th>\n",
       "      <td>Germany</td>\n",
       "      <td>23</td>\n",
       "    </tr>\n",
       "    <tr>\n",
       "      <th>3</th>\n",
       "      <td>Australia</td>\n",
       "      <td>21</td>\n",
       "    </tr>\n",
       "    <tr>\n",
       "      <th>4</th>\n",
       "      <td>Canada</td>\n",
       "      <td>14</td>\n",
       "    </tr>\n",
       "    <tr>\n",
       "      <th>5</th>\n",
       "      <td>China</td>\n",
       "      <td>14</td>\n",
       "    </tr>\n",
       "    <tr>\n",
       "      <th>6</th>\n",
       "      <td>France</td>\n",
       "      <td>14</td>\n",
       "    </tr>\n",
       "    <tr>\n",
       "      <th>7</th>\n",
       "      <td>Japan</td>\n",
       "      <td>14</td>\n",
       "    </tr>\n",
       "    <tr>\n",
       "      <th>8</th>\n",
       "      <td>Netherlands</td>\n",
       "      <td>13</td>\n",
       "    </tr>\n",
       "    <tr>\n",
       "      <th>9</th>\n",
       "      <td>Russia</td>\n",
       "      <td>13</td>\n",
       "    </tr>\n",
       "    <tr>\n",
       "      <th>10</th>\n",
       "      <td>Other</td>\n",
       "      <td>155</td>\n",
       "    </tr>\n",
       "  </tbody>\n",
       "</table>\n",
       "</div>"
      ],
      "text/plain": [
       "           country  num_of_institutions\n",
       "0    United States                   74\n",
       "1   United Kingdom                   45\n",
       "2          Germany                   23\n",
       "3        Australia                   21\n",
       "4           Canada                   14\n",
       "5            China                   14\n",
       "6           France                   14\n",
       "7            Japan                   14\n",
       "8      Netherlands                   13\n",
       "9           Russia                   13\n",
       "10           Other                  155"
      ]
     },
     "execution_count": 25,
     "metadata": {},
     "output_type": "execute_result"
    }
   ],
   "source": [
    "# first compute and store the DataFrame 'num_institutions', then display it\n",
    "# do NOT plot just yet\n",
    "\n",
    "# TODO: use a SQL query similar to Question 4 to get the number of institutions of all countries\n",
    "#       (not just the top 10), ordered by the number of institutions, and store in a DataFrame\n",
    "country_institution_df = pd.read_sql(\"\"\"SELECT country, COUNT(*) as num_of_institutions\n",
    "FROM rankings\n",
    "WHERE year = 2020\n",
    "GROUP BY country\n",
    "ORDER BY num_of_institutions DESC, country ASC\"\"\", conn)\n",
    "sum_institutions_after_10 = sum(country_institution_df[10:][\"num_of_institutions\"])\n",
    "\n",
    "# TODO: Use pandas to find the sum of the institutions in all countries except the top 10\n",
    "\n",
    "# TODO: create a new dictionary with the data about the new row that needs to be added\n",
    "num_institutions = top_10_countries.append({\"country\": \"Other\", \"num_of_institutions\": sum_institutions_after_10}, ignore_index=True)\n",
    "num_institutions\n",
    "\n",
    "# TODO: properly append this new dictionary to 'num_institutions' and update 'num_institutions'"
   ]
  },
  {
   "cell_type": "code",
   "execution_count": 26,
   "id": "c95611c9",
   "metadata": {
    "deletable": false,
    "editable": false
   },
   "outputs": [
    {
     "data": {
      "text/html": [
       "<p><strong><pre style='display: inline;'>q5</pre></strong> passed! 💯</p>"
      ],
      "text/plain": [
       "q5 results: All test cases passed!"
      ]
     },
     "execution_count": 26,
     "metadata": {},
     "output_type": "execute_result"
    }
   ],
   "source": [
    "grader.check(\"q5\")"
   ]
  },
  {
   "cell_type": "markdown",
   "id": "51a82c7e",
   "metadata": {
    "deletable": false,
    "editable": false
   },
   "source": [
    "Now, **plot** `num_institutions` as **bar plot** with the **x-axis** labelled *country* and the **y-axis** labelled *num_of_institutions*.\n",
    "\n",
    "You **must** use the `bar_plot` function to create the plot.\n",
    "\n",
    "**Important Warning:** `p13_test.py` can check that the **DataFrame** is correct, but it **cannot** check if your plot appears on the screen, or whether the axes are correctly labelled. If your plot is not visible, or if it is not properly labelled, the Gradescope autograder will **deduct points**.\n",
    "\n",
    "Your plot should look like this:"
   ]
  },
  {
   "cell_type": "code",
   "execution_count": 27,
   "id": "4cd92732",
   "metadata": {
    "tags": []
   },
   "outputs": [
    {
     "data": {
      "image/png": "[encoded data removed]",
      "text/plain": [
       "<Figure size 640x480 with 1 Axes>"
      ]
     },
     "metadata": {},
     "output_type": "display_data"
    }
   ],
   "source": [
    "# create the bar plot using the DataFrame 'num_institutions' with the x-axis labelled \"country\" \n",
    "# and the y-axis labelled \"num_of_institutions\"\n",
    "bar_plot(num_institutions, \"country\", \"num_of_institutions\")"
   ]
  },
  {
   "cell_type": "markdown",
   "id": "6617e42c",
   "metadata": {
    "deletable": false,
    "editable": false
   },
   "source": [
    "**Question 6:** Create a **bar plot** of the **top** *10* countries with the **highest** *total* `overall_score` listed in the `year` *2019*.\n",
    "\n",
    "The `total_score` of a `country` is defined as the **sum** of `overall_score` of **all** institutions in that `country`. You **must** display the columns `country` and `total_score`. The rows **must** be in *descending* order of `total_score`.\n",
    "\n",
    "You **must** first compute a **DataFrame** `top_10_total_score` containing the **country**, and the **total_score** data.\n",
    "\n",
    "Your **DataFrame** should looks like this:\n",
    "\n",
    "||**country**|**total_score**|\n",
    "|---------|------|---------|\n",
    "|**0**|United States|4298.4|\n",
    "|**1**|United Kingdom|2539.2|\n",
    "|**2**|Germany|1098.2|\n",
    "|**3**|Australia|1093.8|\n",
    "|**4**|Japan|752.9|\n",
    "|**5**|China|743.4|\n",
    "|**6**|Canada|705.3|\n",
    "|**7**|Netherlands|674.9|\n",
    "|**8**|South Korea|612.8|\n",
    "|**9**|France|595.2|"
   ]
  },
  {
   "cell_type": "code",
   "execution_count": 28,
   "id": "f7cf3887",
   "metadata": {
    "tags": []
   },
   "outputs": [
    {
     "data": {
      "text/html": [
       "<div>\n",
       "<style scoped>\n",
       "    .dataframe tbody tr th:only-of-type {\n",
       "        vertical-align: middle;\n",
       "    }\n",
       "\n",
       "    .dataframe tbody tr th {\n",
       "        vertical-align: top;\n",
       "    }\n",
       "\n",
       "    .dataframe thead th {\n",
       "        text-align: right;\n",
       "    }\n",
       "</style>\n",
       "<table border=\"1\" class=\"dataframe\">\n",
       "  <thead>\n",
       "    <tr style=\"text-align: right;\">\n",
       "      <th></th>\n",
       "      <th>country</th>\n",
       "      <th>total_score</th>\n",
       "    </tr>\n",
       "  </thead>\n",
       "  <tbody>\n",
       "    <tr>\n",
       "      <th>0</th>\n",
       "      <td>United States</td>\n",
       "      <td>4298.4</td>\n",
       "    </tr>\n",
       "    <tr>\n",
       "      <th>1</th>\n",
       "      <td>United Kingdom</td>\n",
       "      <td>2539.2</td>\n",
       "    </tr>\n",
       "    <tr>\n",
       "      <th>2</th>\n",
       "      <td>Germany</td>\n",
       "      <td>1098.2</td>\n",
       "    </tr>\n",
       "    <tr>\n",
       "      <th>3</th>\n",
       "      <td>Australia</td>\n",
       "      <td>1093.8</td>\n",
       "    </tr>\n",
       "    <tr>\n",
       "      <th>4</th>\n",
       "      <td>Japan</td>\n",
       "      <td>752.9</td>\n",
       "    </tr>\n",
       "    <tr>\n",
       "      <th>5</th>\n",
       "      <td>China</td>\n",
       "      <td>743.4</td>\n",
       "    </tr>\n",
       "    <tr>\n",
       "      <th>6</th>\n",
       "      <td>Canada</td>\n",
       "      <td>705.3</td>\n",
       "    </tr>\n",
       "    <tr>\n",
       "      <th>7</th>\n",
       "      <td>Netherlands</td>\n",
       "      <td>674.9</td>\n",
       "    </tr>\n",
       "    <tr>\n",
       "      <th>8</th>\n",
       "      <td>South Korea</td>\n",
       "      <td>612.8</td>\n",
       "    </tr>\n",
       "    <tr>\n",
       "      <th>9</th>\n",
       "      <td>France</td>\n",
       "      <td>595.2</td>\n",
       "    </tr>\n",
       "  </tbody>\n",
       "</table>\n",
       "</div>"
      ],
      "text/plain": [
       "          country  total_score\n",
       "0   United States       4298.4\n",
       "1  United Kingdom       2539.2\n",
       "2         Germany       1098.2\n",
       "3       Australia       1093.8\n",
       "4           Japan        752.9\n",
       "5           China        743.4\n",
       "6          Canada        705.3\n",
       "7     Netherlands        674.9\n",
       "8     South Korea        612.8\n",
       "9          France        595.2"
      ]
     },
     "execution_count": 28,
     "metadata": {},
     "output_type": "execute_result"
    }
   ],
   "source": [
    "# compute and store the answer in the variable 'top_10_total_score', then display it\n",
    "# do NOT plot just yet\n",
    "top_10_total_score = pd.read_sql(\"\"\"SELECT country, sum(overall_score) as total_score\n",
    "FROM rankings\n",
    "WHERE year = 2019\n",
    "GROUP BY country\n",
    "ORDER BY total_score DESC\n",
    "LIMIT 10\n",
    "\"\"\", conn)\n",
    "\n",
    "top_10_total_score"
   ]
  },
  {
   "cell_type": "code",
   "execution_count": 29,
   "id": "64d40c82",
   "metadata": {
    "deletable": false,
    "editable": false
   },
   "outputs": [
    {
     "data": {
      "text/html": [
       "<p><strong><pre style='display: inline;'>q6</pre></strong> passed! 🎉</p>"
      ],
      "text/plain": [
       "q6 results: All test cases passed!"
      ]
     },
     "execution_count": 29,
     "metadata": {},
     "output_type": "execute_result"
    }
   ],
   "source": [
    "grader.check(\"q6\")"
   ]
  },
  {
   "cell_type": "markdown",
   "id": "2e7b11bc",
   "metadata": {
    "deletable": false,
    "editable": false
   },
   "source": [
    "Now, **plot** `top_10_total_score` as **bar plot** with the **x-axis** labelled *country* and the **y-axis** labelled *total_score*.\n",
    "\n",
    "You **must** use the `bar_plot` function to create the plot.\n",
    "\n",
    "**Important Warning:** `p13_test.py` can check that the **DataFrame** is correct, but it **cannot** check if your plot appears on the screen, or whether the axes are correctly labelled. If your plot is not visible, or if it is not properly labelled, the Gradescope autograder will **deduct points**.\n",
    "\n",
    "Your plot should look like this:"
   ]
  },
  {
   "cell_type": "code",
   "execution_count": 30,
   "id": "2192b4e4",
   "metadata": {
    "tags": []
   },
   "outputs": [
    {
     "data": {
      "image/png": "[encoded data removed]",
      "text/plain": [
       "<Figure size 640x480 with 1 Axes>"
      ]
     },
     "metadata": {},
     "output_type": "display_data"
    }
   ],
   "source": [
    "# create the bar plot using the DataFrame 'top_10_total_score' with the x-axis labelled \"country\" \n",
    "# and the y-axis labelled \"total_score\"\n",
    "bar_plot(top_10_total_score, \"country\", \"total_score\")"
   ]
  },
  {
   "cell_type": "markdown",
   "id": "88cbb812",
   "metadata": {
    "deletable": false,
    "editable": false
   },
   "source": [
    "**Question 7:** What are the **top** *10* institutions in the *United States* which had the **highest** *international_score* in the `year` *2020*?\n",
    "\n",
    "The *international_score* of an institution is defined as the **sum** of `international_faculty` and `international_students` scores of that institution. You **must** display the columns `institution_name` and `international_score`. The rows **must** be in *descending* order of `international_score`.\n",
    "\n",
    "Your output **must** be a **DataFrame** that looks like this:\n",
    "\n",
    "||**institution_name**|**international_score**|\n",
    "|---------|------|---------|\n",
    "|**0**|Massachusetts Institute Of Technology|194.1|\n",
    "|**1**|California Institute Of Technology|186.7|\n",
    "|**2**|Carnegie Mellon University|183.5|\n",
    "|**3**|Rice University|180.4|\n",
    "|**4**|Northeastern University|179.1|\n",
    "|**5**|Stanford University|167.5|\n",
    "|**6**|Cornell University|166.1|\n",
    "|**7**|Purdue University|158.2|\n",
    "|**8**|University Of Rochester|157.9|\n",
    "|**9**|University Of Chicago|151.2|"
   ]
  },
  {
   "cell_type": "code",
   "execution_count": 31,
   "id": "af3589cd",
   "metadata": {
    "tags": []
   },
   "outputs": [
    {
     "data": {
      "text/html": [
       "<div>\n",
       "<style scoped>\n",
       "    .dataframe tbody tr th:only-of-type {\n",
       "        vertical-align: middle;\n",
       "    }\n",
       "\n",
       "    .dataframe tbody tr th {\n",
       "        vertical-align: top;\n",
       "    }\n",
       "\n",
       "    .dataframe thead th {\n",
       "        text-align: right;\n",
       "    }\n",
       "</style>\n",
       "<table border=\"1\" class=\"dataframe\">\n",
       "  <thead>\n",
       "    <tr style=\"text-align: right;\">\n",
       "      <th></th>\n",
       "      <th>institution_name</th>\n",
       "      <th>international_score</th>\n",
       "    </tr>\n",
       "  </thead>\n",
       "  <tbody>\n",
       "    <tr>\n",
       "      <th>0</th>\n",
       "      <td>Massachusetts Institute Of Technology</td>\n",
       "      <td>194.1</td>\n",
       "    </tr>\n",
       "    <tr>\n",
       "      <th>1</th>\n",
       "      <td>California Institute Of Technology</td>\n",
       "      <td>186.7</td>\n",
       "    </tr>\n",
       "    <tr>\n",
       "      <th>2</th>\n",
       "      <td>Carnegie Mellon University</td>\n",
       "      <td>183.5</td>\n",
       "    </tr>\n",
       "    <tr>\n",
       "      <th>3</th>\n",
       "      <td>Rice University</td>\n",
       "      <td>180.4</td>\n",
       "    </tr>\n",
       "    <tr>\n",
       "      <th>4</th>\n",
       "      <td>Northeastern University</td>\n",
       "      <td>179.1</td>\n",
       "    </tr>\n",
       "    <tr>\n",
       "      <th>5</th>\n",
       "      <td>Stanford University</td>\n",
       "      <td>167.5</td>\n",
       "    </tr>\n",
       "    <tr>\n",
       "      <th>6</th>\n",
       "      <td>Cornell University</td>\n",
       "      <td>166.1</td>\n",
       "    </tr>\n",
       "    <tr>\n",
       "      <th>7</th>\n",
       "      <td>Purdue University</td>\n",
       "      <td>158.2</td>\n",
       "    </tr>\n",
       "    <tr>\n",
       "      <th>8</th>\n",
       "      <td>University Of Rochester</td>\n",
       "      <td>157.9</td>\n",
       "    </tr>\n",
       "    <tr>\n",
       "      <th>9</th>\n",
       "      <td>University Of Chicago</td>\n",
       "      <td>151.2</td>\n",
       "    </tr>\n",
       "  </tbody>\n",
       "</table>\n",
       "</div>"
      ],
      "text/plain": [
       "                        institution_name  international_score\n",
       "0  Massachusetts Institute Of Technology                194.1\n",
       "1     California Institute Of Technology                186.7\n",
       "2             Carnegie Mellon University                183.5\n",
       "3                        Rice University                180.4\n",
       "4                Northeastern University                179.1\n",
       "5                    Stanford University                167.5\n",
       "6                     Cornell University                166.1\n",
       "7                      Purdue University                158.2\n",
       "8                University Of Rochester                157.9\n",
       "9                  University Of Chicago                151.2"
      ]
     },
     "execution_count": 31,
     "metadata": {},
     "output_type": "execute_result"
    }
   ],
   "source": [
    "# compute and store the answer in the variable 'top_10_inter_score', then display it\n",
    "top_10_inter_score = pd.read_sql(\"\"\"SELECT institution_name, sum(international_faculty + international_students) as international_score\n",
    "FROM rankings\n",
    "WHERE year = 2020 AND country = 'United States'\n",
    "GROUP BY institution_name\n",
    "ORDER BY international_score DESC\n",
    "LIMIT 10\n",
    "\"\"\", conn)\n",
    "\n",
    "top_10_inter_score"
   ]
  },
  {
   "cell_type": "code",
   "execution_count": 32,
   "id": "41ee5bff",
   "metadata": {
    "deletable": false,
    "editable": false
   },
   "outputs": [
    {
     "data": {
      "text/html": [
       "<p><strong><pre style='display: inline;'>q7</pre></strong> passed! ✨</p>"
      ],
      "text/plain": [
       "q7 results: All test cases passed!"
      ]
     },
     "execution_count": 32,
     "metadata": {},
     "output_type": "execute_result"
    }
   ],
   "source": [
    "grader.check(\"q7\")"
   ]
  },
  {
   "cell_type": "markdown",
   "id": "4794b1a5",
   "metadata": {
    "deletable": false,
    "editable": false
   },
   "source": [
    "**Question 8:** Create a **scatter plot** representing the `citations_per_faculty` (on the **x-axis**) against the `overall_score` (on the **y-axis**) of each institution in the `year` *2018*.\n",
    "\n",
    "You **must** first compute a **DataFrame** `citations_overall` containing the **citations_per_faculty**, and the **overall_score** data from the `year` *2018*, of each **institution**."
   ]
  },
  {
   "cell_type": "code",
   "execution_count": 33,
   "id": "92a32a11",
   "metadata": {
    "tags": []
   },
   "outputs": [
    {
     "data": {
      "text/html": [
       "<div>\n",
       "<style scoped>\n",
       "    .dataframe tbody tr th:only-of-type {\n",
       "        vertical-align: middle;\n",
       "    }\n",
       "\n",
       "    .dataframe tbody tr th {\n",
       "        vertical-align: top;\n",
       "    }\n",
       "\n",
       "    .dataframe thead th {\n",
       "        text-align: right;\n",
       "    }\n",
       "</style>\n",
       "<table border=\"1\" class=\"dataframe\">\n",
       "  <thead>\n",
       "    <tr style=\"text-align: right;\">\n",
       "      <th></th>\n",
       "      <th>citations_per_faculty</th>\n",
       "      <th>overall_score</th>\n",
       "    </tr>\n",
       "  </thead>\n",
       "  <tbody>\n",
       "    <tr>\n",
       "      <th>0</th>\n",
       "      <td>99.9</td>\n",
       "      <td>100.0</td>\n",
       "    </tr>\n",
       "    <tr>\n",
       "      <th>1</th>\n",
       "      <td>99.4</td>\n",
       "      <td>98.7</td>\n",
       "    </tr>\n",
       "    <tr>\n",
       "      <th>2</th>\n",
       "      <td>99.9</td>\n",
       "      <td>98.4</td>\n",
       "    </tr>\n",
       "    <tr>\n",
       "      <th>3</th>\n",
       "      <td>100.0</td>\n",
       "      <td>97.7</td>\n",
       "    </tr>\n",
       "    <tr>\n",
       "      <th>4</th>\n",
       "      <td>78.3</td>\n",
       "      <td>95.6</td>\n",
       "    </tr>\n",
       "  </tbody>\n",
       "</table>\n",
       "</div>"
      ],
      "text/plain": [
       "   citations_per_faculty  overall_score\n",
       "0                   99.9          100.0\n",
       "1                   99.4           98.7\n",
       "2                   99.9           98.4\n",
       "3                  100.0           97.7\n",
       "4                   78.3           95.6"
      ]
     },
     "execution_count": 33,
     "metadata": {},
     "output_type": "execute_result"
    }
   ],
   "source": [
    "# first compute and store the DataFrame 'citations_overall', then display its head\n",
    "# do NOT plot just yet\n",
    "citations_overall = pd.read_sql(\"\"\"SELECT citations_per_faculty, overall_score\n",
    "FROM rankings\n",
    "WHERE year = 2018\n",
    "\"\"\", conn)\n",
    "citations_overall.head()"
   ]
  },
  {
   "cell_type": "code",
   "execution_count": 34,
   "id": "c9a2b1ba",
   "metadata": {
    "deletable": false,
    "editable": false
   },
   "outputs": [
    {
     "data": {
      "text/html": [
       "<p><strong><pre style='display: inline;'>q8</pre></strong> passed! ✨</p>"
      ],
      "text/plain": [
       "q8 results: All test cases passed!"
      ]
     },
     "execution_count": 34,
     "metadata": {},
     "output_type": "execute_result"
    }
   ],
   "source": [
    "grader.check(\"q8\")"
   ]
  },
  {
   "cell_type": "markdown",
   "id": "68165402",
   "metadata": {
    "deletable": false,
    "editable": false
   },
   "source": [
    "Now, **plot** `citations_overall` as **scatter plot** with the **x-axis** labelled *citations_per_faculty* and the **y-axis** labelled *overall_score*.\n",
    "\n",
    "You **must** use the `scatter_plot` function to create the plot.\n",
    "\n",
    "**Important Warning:** `p13_test.py` can check that the **DataFrame** is correct, but it **cannot** check if your plot appears on the screen, or whether the axes are correctly labelled. If your plot is not visible, or if it is not properly labelled, the Gradescope autograder will **deduct points**.\n",
    "\n",
    "Your plot should look like this:"
   ]
  },
  {
   "cell_type": "code",
   "execution_count": 35,
   "id": "0e0b8a7d",
   "metadata": {
    "tags": []
   },
   "outputs": [
    {
     "data": {
      "image/png": "[encoded data removed]",
      "text/plain": [
       "<Figure size 640x480 with 1 Axes>"
      ]
     },
     "metadata": {},
     "output_type": "display_data"
    }
   ],
   "source": [
    "# create the scatter plot using the DataFrame 'citations_overall' with the x-axis labelled \"citations_per_faculty\" \n",
    "# and the y-axis labelled \"overall_score\"\n",
    "scatter_plot(citations_overall, \"citations_per_faculty\", \"overall_score\")"
   ]
  },
  {
   "cell_type": "markdown",
   "id": "8ba5ed8c",
   "metadata": {
    "deletable": false,
    "editable": false
   },
   "source": [
    "**Question 9:** Create a **scatter plot** representing the `academic_reputation` (on the **x-axis**) against the `employer_reputation` (on the **y-axis**) of each institution from the *United States* in the `year` *2019*.\n",
    "\n",
    "You **must** first compute a **DataFrame** `reputations_usa` containing the **academic_reputation**, and the **employer_reputation** data from the `year` *2019*, of each **institution** in the `country` *United States*."
   ]
  },
  {
   "cell_type": "code",
   "execution_count": 36,
   "id": "b04f767f",
   "metadata": {
    "tags": []
   },
   "outputs": [
    {
     "data": {
      "text/html": [
       "<div>\n",
       "<style scoped>\n",
       "    .dataframe tbody tr th:only-of-type {\n",
       "        vertical-align: middle;\n",
       "    }\n",
       "\n",
       "    .dataframe tbody tr th {\n",
       "        vertical-align: top;\n",
       "    }\n",
       "\n",
       "    .dataframe thead th {\n",
       "        text-align: right;\n",
       "    }\n",
       "</style>\n",
       "<table border=\"1\" class=\"dataframe\">\n",
       "  <thead>\n",
       "    <tr style=\"text-align: right;\">\n",
       "      <th></th>\n",
       "      <th>academic_reputation</th>\n",
       "      <th>employer_reputation</th>\n",
       "    </tr>\n",
       "  </thead>\n",
       "  <tbody>\n",
       "    <tr>\n",
       "      <th>0</th>\n",
       "      <td>100.0</td>\n",
       "      <td>100.0</td>\n",
       "    </tr>\n",
       "    <tr>\n",
       "      <th>1</th>\n",
       "      <td>100.0</td>\n",
       "      <td>100.0</td>\n",
       "    </tr>\n",
       "    <tr>\n",
       "      <th>2</th>\n",
       "      <td>100.0</td>\n",
       "      <td>100.0</td>\n",
       "    </tr>\n",
       "    <tr>\n",
       "      <th>3</th>\n",
       "      <td>98.7</td>\n",
       "      <td>81.2</td>\n",
       "    </tr>\n",
       "    <tr>\n",
       "      <th>4</th>\n",
       "      <td>99.6</td>\n",
       "      <td>90.7</td>\n",
       "    </tr>\n",
       "  </tbody>\n",
       "</table>\n",
       "</div>"
      ],
      "text/plain": [
       "   academic_reputation  employer_reputation\n",
       "0                100.0                100.0\n",
       "1                100.0                100.0\n",
       "2                100.0                100.0\n",
       "3                 98.7                 81.2\n",
       "4                 99.6                 90.7"
      ]
     },
     "execution_count": 36,
     "metadata": {},
     "output_type": "execute_result"
    }
   ],
   "source": [
    "# first compute and store the DataFrame 'reputations_usa', then display its head\n",
    "# do NOT plot just yet\n",
    "reputations_usa = pd.read_sql(\"\"\"SELECT academic_reputation, employer_reputation\n",
    "FROM rankings\n",
    "WHERE country = 'United States' AND year = 2019\n",
    "\"\"\", conn)\n",
    "reputations_usa.head()"
   ]
  },
  {
   "cell_type": "code",
   "execution_count": 37,
   "id": "05490b0c",
   "metadata": {
    "deletable": false,
    "editable": false
   },
   "outputs": [
    {
     "data": {
      "text/html": [
       "<p><strong><pre style='display: inline;'>q9</pre></strong> passed! 🌈</p>"
      ],
      "text/plain": [
       "q9 results: All test cases passed!"
      ]
     },
     "execution_count": 37,
     "metadata": {},
     "output_type": "execute_result"
    }
   ],
   "source": [
    "grader.check(\"q9\")"
   ]
  },
  {
   "cell_type": "markdown",
   "id": "5f8fcce5",
   "metadata": {
    "deletable": false,
    "editable": false
   },
   "source": [
    "Now, **plot** `reputations_usa` as **scatter plot** with the **x-axis** labelled *academic_reputation* and the **y-axis** labelled *employer_reputation*.\n",
    "\n",
    "You **must** use the `scatter_plot` function to create the plot.\n",
    "\n",
    "**Important Warning:** `p13_test.py` can check that the **DataFrame** is correct, but it **cannot** check if your plot appears on the screen, or whether the axes are correctly labelled. If your plot is not visible, or if it is not properly labelled, the Gradescope autograder will **deduct points**.\n",
    "\n",
    "Your plot should look like this:"
   ]
  },
  {
   "cell_type": "code",
   "execution_count": 38,
   "id": "29894cd8",
   "metadata": {
    "tags": []
   },
   "outputs": [
    {
     "data": {
      "image/png": "[encoded data removed]",
      "text/plain": [
       "<Figure size 640x480 with 1 Axes>"
      ]
     },
     "metadata": {},
     "output_type": "display_data"
    }
   ],
   "source": [
    "# create the scatter plot using the DataFrame 'reputations_usa' with the x-axis labelled \"academic_reputation\" \n",
    "# and the y-axis labelled \"employer_reputation\"\n",
    "scatter_plot(reputations_usa, \"academic_reputation\", \"employer_reputation\")"
   ]
  },
  {
   "cell_type": "markdown",
   "id": "2e739c41",
   "metadata": {
    "deletable": false,
    "editable": false
   },
   "source": [
    "**Question 10:** Create a **scatter plot** representing the `international_students` (on the **x-axis**) against the `faculty_student_score` (on the **y-axis**) for the **top ranked** institution of **each** `country` in the `year` *2020*.\n",
    "\n",
    "You **must** first compute a **DataFrame** `top_ranked_inter_faculty` containing the **international_students**, and the **faculty_student_score** data from the `year` *2020*, of the **top** ranked **institution** (i.e., the institution with the **least** `rank`) of each **country**.\n",
    "\n",
    "**Hint:** You can use the `MIN` SQL function to return the least value of a selected column. However, there are a few things to keep in mind while using this function.\n",
    "* The function must be in **uppercase** (i.e., you must use `MIN`, and **not** `min`).\n",
    "* The column you are finding the minimum of must be inside backticks (``` ` ```). For example, if you want to find the minimum `rank`, you need to say ```MIN(`rank`)```.\n",
    "\n",
    "If you do not follow the syntax above, your code will likely fail."
   ]
  },
  {
   "cell_type": "code",
   "execution_count": 39,
   "id": "fa9e1b6f",
   "metadata": {
    "tags": []
   },
   "outputs": [
    {
     "data": {
      "text/html": [
       "<div>\n",
       "<style scoped>\n",
       "    .dataframe tbody tr th:only-of-type {\n",
       "        vertical-align: middle;\n",
       "    }\n",
       "\n",
       "    .dataframe tbody tr th {\n",
       "        vertical-align: top;\n",
       "    }\n",
       "\n",
       "    .dataframe thead th {\n",
       "        text-align: right;\n",
       "    }\n",
       "</style>\n",
       "<table border=\"1\" class=\"dataframe\">\n",
       "  <thead>\n",
       "    <tr style=\"text-align: right;\">\n",
       "      <th></th>\n",
       "      <th>MIN(`rank`)</th>\n",
       "      <th>international_students</th>\n",
       "      <th>faculty_student_score</th>\n",
       "    </tr>\n",
       "  </thead>\n",
       "  <tbody>\n",
       "    <tr>\n",
       "      <th>0</th>\n",
       "      <td>74</td>\n",
       "      <td>64.7</td>\n",
       "      <td>77.4</td>\n",
       "    </tr>\n",
       "    <tr>\n",
       "      <th>1</th>\n",
       "      <td>29</td>\n",
       "      <td>99.8</td>\n",
       "      <td>37.5</td>\n",
       "    </tr>\n",
       "    <tr>\n",
       "      <th>2</th>\n",
       "      <td>154</td>\n",
       "      <td>92.5</td>\n",
       "      <td>26.2</td>\n",
       "    </tr>\n",
       "    <tr>\n",
       "      <th>3</th>\n",
       "      <td>351</td>\n",
       "      <td>20.6</td>\n",
       "      <td>94.2</td>\n",
       "    </tr>\n",
       "    <tr>\n",
       "      <th>4</th>\n",
       "      <td>80</td>\n",
       "      <td>37.5</td>\n",
       "      <td>11.8</td>\n",
       "    </tr>\n",
       "  </tbody>\n",
       "</table>\n",
       "</div>"
      ],
      "text/plain": [
       "   MIN(`rank`)  international_students  faculty_student_score\n",
       "0           74                    64.7                   77.4\n",
       "1           29                    99.8                   37.5\n",
       "2          154                    92.5                   26.2\n",
       "3          351                    20.6                   94.2\n",
       "4           80                    37.5                   11.8"
      ]
     },
     "execution_count": 39,
     "metadata": {},
     "output_type": "execute_result"
    }
   ],
   "source": [
    "# first compute and store the DataFrame 'top_ranked_inter_faculty', then display its head\n",
    "# do NOT plot just yet\n",
    "top_ranked_inter_faculty = pd.read_sql(\"\"\"SELECT MIN(`rank`), international_students, faculty_student_score\n",
    "FROM rankings\n",
    "WHERE year = 2020\n",
    "\n",
    "GROUP BY country\n",
    "\"\"\", conn)\n",
    "top_ranked_inter_faculty.head()"
   ]
  },
  {
   "cell_type": "code",
   "execution_count": 40,
   "id": "a4831be1",
   "metadata": {
    "deletable": false,
    "editable": false
   },
   "outputs": [
    {
     "data": {
      "text/html": [
       "<p><strong><pre style='display: inline;'>q10</pre></strong> passed! 🌟</p>"
      ],
      "text/plain": [
       "q10 results: All test cases passed!"
      ]
     },
     "execution_count": 40,
     "metadata": {},
     "output_type": "execute_result"
    }
   ],
   "source": [
    "grader.check(\"q10\")"
   ]
  },
  {
   "cell_type": "markdown",
   "id": "59b40839",
   "metadata": {
    "deletable": false,
    "editable": false
   },
   "source": [
    "Now, **plot** `top_ranked_inter_faculty` as **scatter plot** with the **x-axis** labelled *international_students* and the **y-axis** labelled *faculty_student_score*.\n",
    "\n",
    "You **must** use the `scatter_plot` function to create the plot.\n",
    "\n",
    "**Important Warning:** `p13_test.py` can check that the **DataFrame** is correct, but it **cannot** check if your plot appears on the screen, or whether the axes are correctly labelled. If your plot is not visible, or if it is not properly labelled, the Gradescope autograder will **deduct points**.\n",
    "\n",
    "Your plot should look like this:"
   ]
  },
  {
   "cell_type": "code",
   "execution_count": 41,
   "id": "2f17934b",
   "metadata": {
    "tags": []
   },
   "outputs": [
    {
     "data": {
      "image/png": "[encoded data removed]",
      "text/plain": [
       "<Figure size 640x480 with 1 Axes>"
      ]
     },
     "metadata": {},
     "output_type": "display_data"
    }
   ],
   "source": [
    "# create the scatter plot using the DataFrame 'top_ranked_inter_faculty' with the x-axis labelled \"international_students\" \n",
    "# and the y-axis labelled \"faculty_student_score\"\n",
    "scatter_plot(top_ranked_inter_faculty, \"international_students\", \"faculty_student_score\")"
   ]
  },
  {
   "cell_type": "markdown",
   "id": "9dab472c",
   "metadata": {
    "deletable": false,
    "editable": false
   },
   "source": [
    "### Correlations:\n",
    "\n",
    "You can use the `.corr()` method on a **DataFrame** that has **two** columns to get the *correlation* between those two columns.\n",
    "\n",
    "For example, if we have a **DataFrame** `df` with the two columns `citations_per_faculty` and `overall_score`, `df.corr()` would return\n",
    "\n",
    "||**citations_per_faculty**|**overall_score**|\n",
    "|---------|------|---------|\n",
    "|citations_per_faculty|1.000000|0.574472|\n",
    "|overall_score|0.574472|1.000000|\n",
    "\n",
    "You can use `.loc` here to **extract** the *correlation* between the two columns (`0.574472` in this case)."
   ]
  },
  {
   "cell_type": "markdown",
   "id": "f09ade4a",
   "metadata": {
    "deletable": false,
    "editable": false
   },
   "source": [
    "**Question 11:** Find the **correlation** between `international_students` and `overall_score` for institutions from the `country` *United Kingdom* that were ranked in the **top** *100* in the `year` *2020*.\n",
    "\n",
    "Your output **must** be a **float** representing the absolute correlations. The **only** `pandas` operations you are **allowed** to use are: `.corr`, `.loc` and `.iloc`. You **must** use SQL to gather all other data."
   ]
  },
  {
   "cell_type": "code",
   "execution_count": 42,
   "id": "706db815",
   "metadata": {
    "tags": []
   },
   "outputs": [
    {
     "data": {
      "text/plain": [
       "0.5213253604130499"
      ]
     },
     "execution_count": 42,
     "metadata": {},
     "output_type": "execute_result"
    }
   ],
   "source": [
    "# compute and store the answer in the variable 'uk_inter_score_corr', then display it\n",
    "uk_inter_score = pd.read_sql(\"\"\"SELECT international_students, overall_score\n",
    "FROM rankings\n",
    "WHERE country = 'United Kingdom' AND year = 2020 AND rank <= 100\n",
    "\"\"\", conn)\n",
    "uk_inter_score_corr = uk_inter_score.corr().loc[\"international_students\"][\"overall_score\"]\n",
    "uk_inter_score_corr"
   ]
  },
  {
   "cell_type": "code",
   "execution_count": 43,
   "id": "ea738710",
   "metadata": {
    "deletable": false,
    "editable": false
   },
   "outputs": [
    {
     "data": {
      "text/html": [
       "<p><strong><pre style='display: inline;'>q11</pre></strong> passed! ✨</p>"
      ],
      "text/plain": [
       "q11 results: All test cases passed!"
      ]
     },
     "execution_count": 43,
     "metadata": {},
     "output_type": "execute_result"
    }
   ],
   "source": [
    "grader.check(\"q11\")"
   ]
  },
  {
   "cell_type": "markdown",
   "id": "314d22d6",
   "metadata": {
    "deletable": false,
    "editable": false
   },
   "source": [
    "Let us now define a new score called `citations_per_international` as follows:\n",
    "\n",
    "$$\\texttt{citations}\\_\\texttt{per}\\_\\texttt{international} = \\frac{\\texttt{citations}\\_\\texttt{per}\\_\\texttt{faculty} \\times \\texttt{international}\\_\\texttt{faculty}}{100}.$$\n"
   ]
  },
  {
   "cell_type": "markdown",
   "id": "cef190f0",
   "metadata": {
    "deletable": false,
    "editable": false
   },
   "source": [
    "**Question 12:** Find the **correlation** between `citations_per_international` and `overall_score` for **all** institutions in the `year` *2019*.\n",
    "\n",
    "Your output **must** be a **float** representing the absolute correlations. The **only** `pandas` operations you are **allowed** to use are: `.corr`, `.loc` and `.iloc`. You **must** use SQL to gather all other data."
   ]
  },
  {
   "cell_type": "code",
   "execution_count": 44,
   "id": "777d001c",
   "metadata": {
    "tags": []
   },
   "outputs": [
    {
     "data": {
      "text/plain": [
       "0.557397228343763"
      ]
     },
     "execution_count": 44,
     "metadata": {},
     "output_type": "execute_result"
    }
   ],
   "source": [
    "# compute and store the answer in the variable 'cit_per_inter_score_corr', then display it\n",
    "cit_per_inter_score = pd.read_sql(\"\"\"SELECT (citations_per_faculty * international_faculty / 100) as citations_per_international, overall_score\n",
    "FROM rankings\n",
    "WHERE year = 2019\n",
    "\"\"\", conn)\n",
    "cit_per_inter_score_corr = cit_per_inter_score.corr().loc[\"citations_per_international\"][\"overall_score\"]\n",
    "cit_per_inter_score_corr"
   ]
  },
  {
   "cell_type": "code",
   "execution_count": 45,
   "id": "ee14b0ac",
   "metadata": {
    "deletable": false,
    "editable": false
   },
   "outputs": [
    {
     "data": {
      "text/html": [
       "<p><strong><pre style='display: inline;'>q12</pre></strong> passed! ✨</p>"
      ],
      "text/plain": [
       "q12 results: All test cases passed!"
      ]
     },
     "execution_count": 45,
     "metadata": {},
     "output_type": "execute_result"
    }
   ],
   "source": [
    "grader.check(\"q12\")"
   ]
  },
  {
   "cell_type": "markdown",
   "id": "cc72c981",
   "metadata": {
    "deletable": false,
    "editable": false
   },
   "source": [
    "**Question 13:** What are the **top** *15* countries with the **highest** *total* of `citations_per_international` in the `year` *2019*.\n",
    "\n",
    "\n",
    "The *total* `citations_per_international` of a `country` is defined as the **sum** of `citations_per_international` scores of **all** institutions in that `country`. You **must** display the columns `country` and `sum_inter_citations`. The rows **must** be in *descending* order of `sum_inter_citations`.\n",
    "\n",
    "Your output **must** be a **DataFrame** that looks like this:\n",
    "\n",
    "||**country**|**sum_inter_citations**|\n",
    "|----|-----------|-----------------------|\n",
    "|**0**|United States|2623.8207|\n",
    "|**1**|United Kingdom|2347.1602|\n",
    "|**2**|Australia|1255.5530|\n",
    "|**3**|Netherlands|748.4268|\n",
    "|**4**|Canada|724.5029|\n",
    "|**5**|Switzerland|561.8790|\n",
    "|**6**|China|482.2577|\n",
    "|**7**|Germany|455.5466|\n",
    "|**8**|Hong Kong|375.3032|\n",
    "|**9**|New Zealand|327.3357|\n",
    "|**10**|Sweden|305.3745|\n",
    "|**11**|Belgium|255.0750|\n",
    "|**12**|France|198.0860|\n",
    "|**13**|Denmark|186.4904|\n",
    "|**14**|Singapore|160.3000|"
   ]
  },
  {
   "cell_type": "code",
   "execution_count": 46,
   "id": "14aaad72",
   "metadata": {
    "tags": []
   },
   "outputs": [
    {
     "data": {
      "text/html": [
       "<div>\n",
       "<style scoped>\n",
       "    .dataframe tbody tr th:only-of-type {\n",
       "        vertical-align: middle;\n",
       "    }\n",
       "\n",
       "    .dataframe tbody tr th {\n",
       "        vertical-align: top;\n",
       "    }\n",
       "\n",
       "    .dataframe thead th {\n",
       "        text-align: right;\n",
       "    }\n",
       "</style>\n",
       "<table border=\"1\" class=\"dataframe\">\n",
       "  <thead>\n",
       "    <tr style=\"text-align: right;\">\n",
       "      <th></th>\n",
       "      <th>country</th>\n",
       "      <th>sum_inter_citations</th>\n",
       "    </tr>\n",
       "  </thead>\n",
       "  <tbody>\n",
       "    <tr>\n",
       "      <th>0</th>\n",
       "      <td>United States</td>\n",
       "      <td>2623.8207</td>\n",
       "    </tr>\n",
       "    <tr>\n",
       "      <th>1</th>\n",
       "      <td>United Kingdom</td>\n",
       "      <td>2347.1602</td>\n",
       "    </tr>\n",
       "    <tr>\n",
       "      <th>2</th>\n",
       "      <td>Australia</td>\n",
       "      <td>1255.5530</td>\n",
       "    </tr>\n",
       "    <tr>\n",
       "      <th>3</th>\n",
       "      <td>Netherlands</td>\n",
       "      <td>748.4268</td>\n",
       "    </tr>\n",
       "    <tr>\n",
       "      <th>4</th>\n",
       "      <td>Canada</td>\n",
       "      <td>724.5029</td>\n",
       "    </tr>\n",
       "    <tr>\n",
       "      <th>5</th>\n",
       "      <td>Switzerland</td>\n",
       "      <td>561.8790</td>\n",
       "    </tr>\n",
       "    <tr>\n",
       "      <th>6</th>\n",
       "      <td>China</td>\n",
       "      <td>482.2577</td>\n",
       "    </tr>\n",
       "    <tr>\n",
       "      <th>7</th>\n",
       "      <td>Germany</td>\n",
       "      <td>455.5466</td>\n",
       "    </tr>\n",
       "    <tr>\n",
       "      <th>8</th>\n",
       "      <td>Hong Kong</td>\n",
       "      <td>375.3032</td>\n",
       "    </tr>\n",
       "    <tr>\n",
       "      <th>9</th>\n",
       "      <td>New Zealand</td>\n",
       "      <td>327.3357</td>\n",
       "    </tr>\n",
       "    <tr>\n",
       "      <th>10</th>\n",
       "      <td>Sweden</td>\n",
       "      <td>305.3745</td>\n",
       "    </tr>\n",
       "    <tr>\n",
       "      <th>11</th>\n",
       "      <td>Belgium</td>\n",
       "      <td>255.0750</td>\n",
       "    </tr>\n",
       "    <tr>\n",
       "      <th>12</th>\n",
       "      <td>France</td>\n",
       "      <td>198.0860</td>\n",
       "    </tr>\n",
       "    <tr>\n",
       "      <th>13</th>\n",
       "      <td>Denmark</td>\n",
       "      <td>186.4904</td>\n",
       "    </tr>\n",
       "    <tr>\n",
       "      <th>14</th>\n",
       "      <td>Singapore</td>\n",
       "      <td>160.3000</td>\n",
       "    </tr>\n",
       "  </tbody>\n",
       "</table>\n",
       "</div>"
      ],
      "text/plain": [
       "           country  sum_inter_citations\n",
       "0    United States            2623.8207\n",
       "1   United Kingdom            2347.1602\n",
       "2        Australia            1255.5530\n",
       "3      Netherlands             748.4268\n",
       "4           Canada             724.5029\n",
       "5      Switzerland             561.8790\n",
       "6            China             482.2577\n",
       "7          Germany             455.5466\n",
       "8        Hong Kong             375.3032\n",
       "9      New Zealand             327.3357\n",
       "10          Sweden             305.3745\n",
       "11         Belgium             255.0750\n",
       "12          France             198.0860\n",
       "13         Denmark             186.4904\n",
       "14       Singapore             160.3000"
      ]
     },
     "execution_count": 46,
     "metadata": {},
     "output_type": "execute_result"
    }
   ],
   "source": [
    "# compute and store the answer in the variable 'top_cit_per_inter', then display it\n",
    "top_cit_per_inter = pd.read_sql(\"\"\"SELECT country, sum(citations_per_faculty * international_faculty / 100) as sum_inter_citations\n",
    "FROM rankings\n",
    "WHERE year = 2019\n",
    "GROUP BY country\n",
    "ORDER BY sum_inter_citations DESC\n",
    "LIMIT 15\n",
    "\"\"\", conn)\n",
    "top_cit_per_inter\n"
   ]
  },
  {
   "cell_type": "code",
   "execution_count": 47,
   "id": "b44e985d",
   "metadata": {
    "deletable": false,
    "editable": false
   },
   "outputs": [
    {
     "data": {
      "text/html": [
       "<p><strong><pre style='display: inline;'>q13</pre></strong> passed! 💯</p>"
      ],
      "text/plain": [
       "q13 results: All test cases passed!"
      ]
     },
     "execution_count": 47,
     "metadata": {},
     "output_type": "execute_result"
    }
   ],
   "source": [
    "grader.check(\"q13\")"
   ]
  },
  {
   "cell_type": "markdown",
   "id": "59a993ce",
   "metadata": {
    "deletable": false,
    "editable": false
   },
   "source": [
    "**Question 14:** Among the institutions ranked within the **top** *300*, find the **average** `citations_per_international` for **each** `country` in the `year` *2019*.\n",
    "\n",
    "You **must** display the columns `country` and `avg_inter_citations` representing the **average** of `citations_per_international` for **each** country. The rows **must** be in *descending* order of `avg_inter_citations`.\n",
    "\n",
    "**Hint:** To find the **average**, you can use `SUM()` and `COUNT()` or you can simply use `AVG()`.\n",
    "\n",
    "Your output **must** be a **DataFrame** whose **first ten rows** look like this:\n",
    "\n",
    "||**country**|**avg_inter_citations**|\n",
    "|----|-----------|----------------------|\n",
    "|**0**|Singapore|80.150000|\n",
    "|**1**|Switzerland|75.497000|\n",
    "|**2**|Hong Kong|62.550533|\n",
    "|**3**|Australia|61.362388|\n",
    "|**4**|Netherlands|56.166733|\n",
    "|**5**|New Zealand|53.226220|\n",
    "|**6**|United Kingdom|52.889084|\n",
    "|**7**|Canada|50.779723|\n",
    "|**8**|Denmark|46.196200|\n",
    "|**9**|Norway|46.083300|"
   ]
  },
  {
   "cell_type": "code",
   "execution_count": 48,
   "id": "dac3e940",
   "metadata": {
    "tags": []
   },
   "outputs": [
    {
     "data": {
      "text/html": [
       "<div>\n",
       "<style scoped>\n",
       "    .dataframe tbody tr th:only-of-type {\n",
       "        vertical-align: middle;\n",
       "    }\n",
       "\n",
       "    .dataframe tbody tr th {\n",
       "        vertical-align: top;\n",
       "    }\n",
       "\n",
       "    .dataframe thead th {\n",
       "        text-align: right;\n",
       "    }\n",
       "</style>\n",
       "<table border=\"1\" class=\"dataframe\">\n",
       "  <thead>\n",
       "    <tr style=\"text-align: right;\">\n",
       "      <th></th>\n",
       "      <th>country</th>\n",
       "      <th>avg_inter_citations</th>\n",
       "    </tr>\n",
       "  </thead>\n",
       "  <tbody>\n",
       "    <tr>\n",
       "      <th>0</th>\n",
       "      <td>Singapore</td>\n",
       "      <td>80.150000</td>\n",
       "    </tr>\n",
       "    <tr>\n",
       "      <th>1</th>\n",
       "      <td>Switzerland</td>\n",
       "      <td>75.497000</td>\n",
       "    </tr>\n",
       "    <tr>\n",
       "      <th>2</th>\n",
       "      <td>Hong Kong</td>\n",
       "      <td>62.550533</td>\n",
       "    </tr>\n",
       "    <tr>\n",
       "      <th>3</th>\n",
       "      <td>Australia</td>\n",
       "      <td>61.362388</td>\n",
       "    </tr>\n",
       "    <tr>\n",
       "      <th>4</th>\n",
       "      <td>Netherlands</td>\n",
       "      <td>56.166733</td>\n",
       "    </tr>\n",
       "    <tr>\n",
       "      <th>5</th>\n",
       "      <td>New Zealand</td>\n",
       "      <td>53.226220</td>\n",
       "    </tr>\n",
       "    <tr>\n",
       "      <th>6</th>\n",
       "      <td>United Kingdom</td>\n",
       "      <td>52.889084</td>\n",
       "    </tr>\n",
       "    <tr>\n",
       "      <th>7</th>\n",
       "      <td>Canada</td>\n",
       "      <td>50.779723</td>\n",
       "    </tr>\n",
       "    <tr>\n",
       "      <th>8</th>\n",
       "      <td>Denmark</td>\n",
       "      <td>46.196200</td>\n",
       "    </tr>\n",
       "    <tr>\n",
       "      <th>9</th>\n",
       "      <td>Norway</td>\n",
       "      <td>46.083300</td>\n",
       "    </tr>\n",
       "  </tbody>\n",
       "</table>\n",
       "</div>"
      ],
      "text/plain": [
       "          country  avg_inter_citations\n",
       "0       Singapore            80.150000\n",
       "1     Switzerland            75.497000\n",
       "2       Hong Kong            62.550533\n",
       "3       Australia            61.362388\n",
       "4     Netherlands            56.166733\n",
       "5     New Zealand            53.226220\n",
       "6  United Kingdom            52.889084\n",
       "7          Canada            50.779723\n",
       "8         Denmark            46.196200\n",
       "9          Norway            46.083300"
      ]
     },
     "execution_count": 48,
     "metadata": {},
     "output_type": "execute_result"
    }
   ],
   "source": [
    "# compute and store the answer in the variable 'avg_cit_per_inter', then display it\n",
    "avg_cit_per_inter = pd.read_sql(\"\"\"\n",
    "SELECT country, AVG(citations_per_faculty * international_faculty / 100) as avg_inter_citations\n",
    "FROM rankings\n",
    "WHERE year = 2019 AND rank <= 300\n",
    "GROUP BY country\n",
    "ORDER BY avg_inter_citations DESC\n",
    "\"\"\", conn)\n",
    "avg_cit_per_inter.head(10)"
   ]
  },
  {
   "cell_type": "code",
   "execution_count": 49,
   "id": "946bb83c",
   "metadata": {
    "deletable": false,
    "editable": false
   },
   "outputs": [
    {
     "data": {
      "text/html": [
       "<p><strong><pre style='display: inline;'>q14</pre></strong> passed! 🚀</p>"
      ],
      "text/plain": [
       "q14 results: All test cases passed!"
      ]
     },
     "execution_count": 49,
     "metadata": {},
     "output_type": "execute_result"
    }
   ],
   "source": [
    "grader.check(\"q14\")"
   ]
  },
  {
   "cell_type": "markdown",
   "id": "bfded4bf",
   "metadata": {
    "deletable": false,
    "editable": false
   },
   "source": [
    "**Question 15** Find the **institution** with the **highest** value of `citations_per_international` for **each** `country` in the `year` *2020*.\n",
    "\n",
    "Your output **must** be a **DataFrame** with the columns `country`, `institution_name`, and a new column `max_inter_citations` representing the **maximum** value of `citations_per_international` for that country. The rows **must** be in *descending* order of `max_inter_citations`. You **must** **omit** rows where `max_inter_citations` is **missing** by using the clause:\n",
    "\n",
    "```sql\n",
    "HAVING `max_inter_citations` IS NOT NULL\n",
    "```\n",
    "\n",
    "**Hint:** You can use the `MAX()` function to return the largest value within a group.\n",
    "\n",
    "Your output **must** be a **DataFrame** whose **first ten rows** look like this:\n",
    "\n",
    "||**country**|**institution_name**|**max_inter_citations**|\n",
    "|----|-----------|--------------------|----------------------|\n",
    "|**0**|United States|Massachusetts Institute Of Technology|99.8000|\n",
    "|**1**|Switzerland|Ecole Polytechnique Fédérale De Lausanne|98.9000|\n",
    "|**2**|Netherlands|Eindhoven University Of Technology|95.4493|\n",
    "|**3**|United Kingdom|London School Of Economics And Political Science|91.1000|\n",
    "|**4**|Hong Kong|The Hong Kong University Of Science And Technology|89.5000|\n",
    "|**5**|Singapore|Nanyang Technological University|88.8000|\n",
    "|**6**|Australia|The University Of Western Australia|88.3000|\n",
    "|**7**|Belgium|Katholieke Universiteit Leuven|76.7700|\n",
    "|**8**|New Zealand|University Of Waikato|73.6434|\n",
    "|**9**|Canada|Western University|72.3240|\n"
   ]
  },
  {
   "cell_type": "code",
   "execution_count": 50,
   "id": "fba4a1c2",
   "metadata": {
    "tags": []
   },
   "outputs": [
    {
     "data": {
      "text/html": [
       "<div>\n",
       "<style scoped>\n",
       "    .dataframe tbody tr th:only-of-type {\n",
       "        vertical-align: middle;\n",
       "    }\n",
       "\n",
       "    .dataframe tbody tr th {\n",
       "        vertical-align: top;\n",
       "    }\n",
       "\n",
       "    .dataframe thead th {\n",
       "        text-align: right;\n",
       "    }\n",
       "</style>\n",
       "<table border=\"1\" class=\"dataframe\">\n",
       "  <thead>\n",
       "    <tr style=\"text-align: right;\">\n",
       "      <th></th>\n",
       "      <th>country</th>\n",
       "      <th>institution_name</th>\n",
       "      <th>max_inter_citations</th>\n",
       "    </tr>\n",
       "  </thead>\n",
       "  <tbody>\n",
       "    <tr>\n",
       "      <th>0</th>\n",
       "      <td>United States</td>\n",
       "      <td>Massachusetts Institute Of Technology</td>\n",
       "      <td>99.8000</td>\n",
       "    </tr>\n",
       "    <tr>\n",
       "      <th>1</th>\n",
       "      <td>Switzerland</td>\n",
       "      <td>Ecole Polytechnique Fédérale De Lausanne</td>\n",
       "      <td>98.9000</td>\n",
       "    </tr>\n",
       "    <tr>\n",
       "      <th>2</th>\n",
       "      <td>Netherlands</td>\n",
       "      <td>Eindhoven University Of Technology</td>\n",
       "      <td>95.4493</td>\n",
       "    </tr>\n",
       "    <tr>\n",
       "      <th>3</th>\n",
       "      <td>United Kingdom</td>\n",
       "      <td>London School Of Economics And Political Science</td>\n",
       "      <td>91.1000</td>\n",
       "    </tr>\n",
       "    <tr>\n",
       "      <th>4</th>\n",
       "      <td>Hong Kong</td>\n",
       "      <td>The Hong Kong University Of Science And Technology</td>\n",
       "      <td>89.5000</td>\n",
       "    </tr>\n",
       "    <tr>\n",
       "      <th>5</th>\n",
       "      <td>Singapore</td>\n",
       "      <td>Nanyang Technological University</td>\n",
       "      <td>88.8000</td>\n",
       "    </tr>\n",
       "    <tr>\n",
       "      <th>6</th>\n",
       "      <td>Australia</td>\n",
       "      <td>The University Of Western Australia</td>\n",
       "      <td>88.3000</td>\n",
       "    </tr>\n",
       "    <tr>\n",
       "      <th>7</th>\n",
       "      <td>Belgium</td>\n",
       "      <td>Katholieke Universiteit Leuven</td>\n",
       "      <td>76.7700</td>\n",
       "    </tr>\n",
       "    <tr>\n",
       "      <th>8</th>\n",
       "      <td>New Zealand</td>\n",
       "      <td>University Of Waikato</td>\n",
       "      <td>73.6434</td>\n",
       "    </tr>\n",
       "    <tr>\n",
       "      <th>9</th>\n",
       "      <td>Canada</td>\n",
       "      <td>Western University</td>\n",
       "      <td>72.3240</td>\n",
       "    </tr>\n",
       "  </tbody>\n",
       "</table>\n",
       "</div>"
      ],
      "text/plain": [
       "          country                                    institution_name  \\\n",
       "0   United States               Massachusetts Institute Of Technology   \n",
       "1     Switzerland            Ecole Polytechnique Fédérale De Lausanne   \n",
       "2     Netherlands                  Eindhoven University Of Technology   \n",
       "3  United Kingdom    London School Of Economics And Political Science   \n",
       "4       Hong Kong  The Hong Kong University Of Science And Technology   \n",
       "5       Singapore                    Nanyang Technological University   \n",
       "6       Australia                 The University Of Western Australia   \n",
       "7         Belgium                      Katholieke Universiteit Leuven   \n",
       "8     New Zealand                               University Of Waikato   \n",
       "9          Canada                                  Western University   \n",
       "\n",
       "   max_inter_citations  \n",
       "0              99.8000  \n",
       "1              98.9000  \n",
       "2              95.4493  \n",
       "3              91.1000  \n",
       "4              89.5000  \n",
       "5              88.8000  \n",
       "6              88.3000  \n",
       "7              76.7700  \n",
       "8              73.6434  \n",
       "9              72.3240  "
      ]
     },
     "execution_count": 50,
     "metadata": {},
     "output_type": "execute_result"
    }
   ],
   "source": [
    "# compute and store the answer in the variable 'max_cit_per_inter', then display it\n",
    "max_cit_per_inter = pd.read_sql(\"\"\"SELECT country, institution_name, max(citations_per_faculty * international_faculty / 100) as max_inter_citations\n",
    "FROM rankings\n",
    "WHERE year = 2020\n",
    "GROUP BY country\n",
    "HAVING `max_inter_citations` IS NOT NULL\n",
    "ORDER BY max_inter_citations DESC\n",
    "\"\"\", conn)\n",
    "\n",
    "max_cit_per_inter.head(10)"
   ]
  },
  {
   "cell_type": "code",
   "execution_count": 51,
   "id": "9c4db997",
   "metadata": {
    "deletable": false,
    "editable": false
   },
   "outputs": [
    {
     "data": {
      "text/html": [
       "<p><strong><pre style='display: inline;'>q15</pre></strong> passed! 🎉</p>"
      ],
      "text/plain": [
       "q15 results: All test cases passed!"
      ]
     },
     "execution_count": 51,
     "metadata": {},
     "output_type": "execute_result"
    }
   ],
   "source": [
    "grader.check(\"q15\")"
   ]
  },
  {
   "cell_type": "markdown",
   "id": "da9cb13f",
   "metadata": {
    "deletable": false,
    "editable": false
   },
   "source": [
    "**Question 16**: Among the institutions ranked within the **top** *50*, create a **horizontal bar plot** representing the **average** of both the`citations_per_faculty` and `international_faculty` scores for **all** institutions in **each** `country` in the `year` *2018*.\n",
    "\n",
    "You **must** first create a **DataFrame** `country_citations_inter` with **three** columns: `country`, `avg_citations` and `avg_inter_faculty` representing the name, the average value of `citations_per_faculty` and the average value of `international_faculty` for each country respectively.\n",
    "\n",
    "You **must** ensure that the countries in the **DataFrame** are **ordered** in **increasing** order of the **difference** between `avg_citations` and `avg_inter_faculty`."
   ]
  },
  {
   "cell_type": "code",
   "execution_count": 52,
   "id": "e9e566a5",
   "metadata": {
    "tags": []
   },
   "outputs": [
    {
     "data": {
      "text/html": [
       "<div>\n",
       "<style scoped>\n",
       "    .dataframe tbody tr th:only-of-type {\n",
       "        vertical-align: middle;\n",
       "    }\n",
       "\n",
       "    .dataframe tbody tr th {\n",
       "        vertical-align: top;\n",
       "    }\n",
       "\n",
       "    .dataframe thead th {\n",
       "        text-align: right;\n",
       "    }\n",
       "</style>\n",
       "<table border=\"1\" class=\"dataframe\">\n",
       "  <thead>\n",
       "    <tr style=\"text-align: right;\">\n",
       "      <th></th>\n",
       "      <th>country</th>\n",
       "      <th>avg_citations</th>\n",
       "      <th>avg_inter_faculty</th>\n",
       "    </tr>\n",
       "  </thead>\n",
       "  <tbody>\n",
       "    <tr>\n",
       "      <th>0</th>\n",
       "      <td>Canada</td>\n",
       "      <td>55.700000</td>\n",
       "      <td>92.950000</td>\n",
       "    </tr>\n",
       "    <tr>\n",
       "      <th>1</th>\n",
       "      <td>Hong Kong</td>\n",
       "      <td>69.050000</td>\n",
       "      <td>99.950000</td>\n",
       "    </tr>\n",
       "    <tr>\n",
       "      <th>2</th>\n",
       "      <td>United Kingdom</td>\n",
       "      <td>65.988889</td>\n",
       "      <td>95.788889</td>\n",
       "    </tr>\n",
       "    <tr>\n",
       "      <th>3</th>\n",
       "      <td>Singapore</td>\n",
       "      <td>74.750000</td>\n",
       "      <td>100.000000</td>\n",
       "    </tr>\n",
       "    <tr>\n",
       "      <th>4</th>\n",
       "      <td>Australia</td>\n",
       "      <td>79.260000</td>\n",
       "      <td>98.940000</td>\n",
       "    </tr>\n",
       "    <tr>\n",
       "      <th>5</th>\n",
       "      <td>Switzerland</td>\n",
       "      <td>98.950000</td>\n",
       "      <td>100.000000</td>\n",
       "    </tr>\n",
       "    <tr>\n",
       "      <th>6</th>\n",
       "      <td>France</td>\n",
       "      <td>100.000000</td>\n",
       "      <td>94.400000</td>\n",
       "    </tr>\n",
       "    <tr>\n",
       "      <th>7</th>\n",
       "      <td>China</td>\n",
       "      <td>66.900000</td>\n",
       "      <td>58.133333</td>\n",
       "    </tr>\n",
       "    <tr>\n",
       "      <th>8</th>\n",
       "      <td>United States</td>\n",
       "      <td>87.461111</td>\n",
       "      <td>73.894444</td>\n",
       "    </tr>\n",
       "    <tr>\n",
       "      <th>9</th>\n",
       "      <td>Japan</td>\n",
       "      <td>64.850000</td>\n",
       "      <td>11.400000</td>\n",
       "    </tr>\n",
       "    <tr>\n",
       "      <th>10</th>\n",
       "      <td>South Korea</td>\n",
       "      <td>85.050000</td>\n",
       "      <td>24.100000</td>\n",
       "    </tr>\n",
       "  </tbody>\n",
       "</table>\n",
       "</div>"
      ],
      "text/plain": [
       "           country  avg_citations  avg_inter_faculty\n",
       "0           Canada      55.700000          92.950000\n",
       "1        Hong Kong      69.050000          99.950000\n",
       "2   United Kingdom      65.988889          95.788889\n",
       "3        Singapore      74.750000         100.000000\n",
       "4        Australia      79.260000          98.940000\n",
       "5      Switzerland      98.950000         100.000000\n",
       "6           France     100.000000          94.400000\n",
       "7            China      66.900000          58.133333\n",
       "8    United States      87.461111          73.894444\n",
       "9            Japan      64.850000          11.400000\n",
       "10     South Korea      85.050000          24.100000"
      ]
     },
     "execution_count": 52,
     "metadata": {},
     "output_type": "execute_result"
    }
   ],
   "source": [
    "# first compute and store the DataFrame 'country_citations_inter', then display it\n",
    "# do NOT plot just yet\n",
    "country_citations_inter = pd.read_sql(\"\"\"\n",
    "SELECT country, AVG(citations_per_faculty) as avg_citations, AVG(international_faculty) as avg_inter_faculty\n",
    "FROM rankings\n",
    "WHERE year = 2018 AND rank <= 50\n",
    "GROUP BY country\n",
    "ORDER BY (avg_citations - avg_inter_faculty)\n",
    "\"\"\", conn)\n",
    "\n",
    "country_citations_inter"
   ]
  },
  {
   "cell_type": "code",
   "execution_count": 53,
   "id": "60d1c6f7",
   "metadata": {
    "deletable": false,
    "editable": false
   },
   "outputs": [
    {
     "data": {
      "text/html": [
       "<p><strong><pre style='display: inline;'>q16</pre></strong> passed! 🌟</p>"
      ],
      "text/plain": [
       "q16 results: All test cases passed!"
      ]
     },
     "execution_count": 53,
     "metadata": {},
     "output_type": "execute_result"
    }
   ],
   "source": [
    "grader.check(\"q16\")"
   ]
  },
  {
   "cell_type": "markdown",
   "id": "3e859552",
   "metadata": {
    "deletable": false,
    "editable": false
   },
   "source": [
    "Now, **plot** `country_citations_inter` as **horizontal bar plot** with the **x-axis** labelled *country*.\n",
    "\n",
    "Then, you **must** use the `horizontal_bar_plot` function to plot this data. Verify that the countries are **ordered** in **decreasing** order of the **difference** between `avg_citations` and `avg_inter_faculty`. Verify that the **legend** appears on your plot.\n",
    "\n",
    "**Hint:** If you want the countries in the plot to be ordered in **decreasing** order of the difference, you will need to make sure that in the DataFrame, they are ordered in the **increasing** order.\n",
    "\n",
    "**Important Warning:** `p13_test.py` can check that the **DataFrame** is correct, but it **cannot** check if your plot appears on the screen, or whether the axes are correctly labelled. If your plot is not visible, or if it is not properly labelled, the Gradescope autograder will **deduct points**.\n",
    "\n",
    "Your plot should look like this:"
   ]
  },
  {
   "cell_type": "code",
   "execution_count": 54,
   "id": "259af611",
   "metadata": {
    "tags": []
   },
   "outputs": [
    {
     "data": {
      "image/png": "[encoded data removed]",
      "text/plain": [
       "<Figure size 640x480 with 1 Axes>"
      ]
     },
     "metadata": {},
     "output_type": "display_data"
    }
   ],
   "source": [
    "# create the horizontal bar plot using the DataFrame 'country_citations_inter' with the x-axis labelled \"country\" \n",
    "horizontal_bar_plot(country_citations_inter, \"country\")"
   ]
  },
  {
   "cell_type": "markdown",
   "id": "1a5d4543",
   "metadata": {
    "deletable": false,
    "editable": false
   },
   "source": [
    "**Question 17:** Create a **scatter plot** representing the `overall_score` (on the **x-axis**) against the `rank` (on the **y-axis**) for **all** institutions in the `year` *2020*. Additionally, **plot** a **regression line** within the same plot.\n",
    "\n",
    "You **must** first compute a **DataFrame** containing the **overall_score**, and the **rank** data from the `year` *2020*. You **must** use the `get_regression_line` function to compute the best fit line."
   ]
  },
  {
   "cell_type": "code",
   "execution_count": 55,
   "id": "d51299b8",
   "metadata": {
    "tags": []
   },
   "outputs": [
    {
     "data": {
      "text/html": [
       "<div>\n",
       "<style scoped>\n",
       "    .dataframe tbody tr th:only-of-type {\n",
       "        vertical-align: middle;\n",
       "    }\n",
       "\n",
       "    .dataframe tbody tr th {\n",
       "        vertical-align: top;\n",
       "    }\n",
       "\n",
       "    .dataframe thead th {\n",
       "        text-align: right;\n",
       "    }\n",
       "</style>\n",
       "<table border=\"1\" class=\"dataframe\">\n",
       "  <thead>\n",
       "    <tr style=\"text-align: right;\">\n",
       "      <th></th>\n",
       "      <th>overall_score</th>\n",
       "      <th>rank</th>\n",
       "      <th>1</th>\n",
       "      <th>fit</th>\n",
       "    </tr>\n",
       "  </thead>\n",
       "  <tbody>\n",
       "    <tr>\n",
       "      <th>0</th>\n",
       "      <td>100.0</td>\n",
       "      <td>1</td>\n",
       "      <td>1</td>\n",
       "      <td>78.221321</td>\n",
       "    </tr>\n",
       "    <tr>\n",
       "      <th>1</th>\n",
       "      <td>98.4</td>\n",
       "      <td>2</td>\n",
       "      <td>1</td>\n",
       "      <td>78.073809</td>\n",
       "    </tr>\n",
       "    <tr>\n",
       "      <th>2</th>\n",
       "      <td>97.4</td>\n",
       "      <td>3</td>\n",
       "      <td>1</td>\n",
       "      <td>77.926297</td>\n",
       "    </tr>\n",
       "    <tr>\n",
       "      <th>3</th>\n",
       "      <td>97.2</td>\n",
       "      <td>4</td>\n",
       "      <td>1</td>\n",
       "      <td>77.778785</td>\n",
       "    </tr>\n",
       "    <tr>\n",
       "      <th>4</th>\n",
       "      <td>96.9</td>\n",
       "      <td>5</td>\n",
       "      <td>1</td>\n",
       "      <td>77.631273</td>\n",
       "    </tr>\n",
       "  </tbody>\n",
       "</table>\n",
       "</div>"
      ],
      "text/plain": [
       "   overall_score  rank  1        fit\n",
       "0          100.0     1  1  78.221321\n",
       "1           98.4     2  1  78.073809\n",
       "2           97.4     3  1  77.926297\n",
       "3           97.2     4  1  77.778785\n",
       "4           96.9     5  1  77.631273"
      ]
     },
     "execution_count": 55,
     "metadata": {},
     "output_type": "execute_result"
    }
   ],
   "source": [
    "# first compute and store the DataFrame 'overall_rank', then display its head\n",
    "# do NOT plot just yet\n",
    "overall_rank_original = pd.read_sql(\"\"\"\n",
    "SELECT overall_score, rank\n",
    "FROM rankings\n",
    "WHERE year = 2020\n",
    "\"\"\", conn)\n",
    "\n",
    "overall_rank = get_regression_line(overall_rank_original, \"rank\", \"overall_score\")\n",
    "\n",
    "overall_rank.head()"
   ]
  },
  {
   "cell_type": "code",
   "execution_count": 56,
   "id": "a422be6a",
   "metadata": {
    "deletable": false,
    "editable": false
   },
   "outputs": [
    {
     "data": {
      "text/html": [
       "<p><strong><pre style='display: inline;'>q17</pre></strong> passed! 💯</p>"
      ],
      "text/plain": [
       "q17 results: All test cases passed!"
      ]
     },
     "execution_count": 56,
     "metadata": {},
     "output_type": "execute_result"
    }
   ],
   "source": [
    "grader.check(\"q17\")"
   ]
  },
  {
   "cell_type": "markdown",
   "id": "4c062dae",
   "metadata": {
    "deletable": false,
    "editable": false
   },
   "source": [
    "Now, **plot** `overall_rank` as **scatter plot** with a **regression line** with the **x-axis** labelled *overall_score* and the **y-axis** labelled *rank*.\n",
    "\n",
    "You **must** use the `regression_line_plot` function to plot this data.\n",
    "\n",
    "**Important Warning:** `p13_test.py` can check that the **DataFrame** is correct, but it **cannot** check if your plot appears on the screen, or whether the axes are correctly labelled. If your plot is not visible, or if it is not properly labelled, the Gradescope autograder will **deduct points**.\n",
    "\n",
    "Your plot should look like this:"
   ]
  },
  {
   "cell_type": "code",
   "execution_count": 57,
   "id": "6c914693",
   "metadata": {
    "tags": []
   },
   "outputs": [
    {
     "data": {
      "text/plain": [
       "<matplotlib.legend.Legend at 0x17c8b68a0d0>"
      ]
     },
     "execution_count": 57,
     "metadata": {},
     "output_type": "execute_result"
    },
    {
     "data": {
      "image/png": "[encoded data removed]",
      "text/plain": [
       "<Figure size 640x480 with 1 Axes>"
      ]
     },
     "metadata": {},
     "output_type": "display_data"
    }
   ],
   "source": [
    "# create the scatter plot and the regression line using the DataFrame 'overall_rank' with the x-axis labelled \"overall_score\" \n",
    "# and the y-axis labelled \"rank\"\n",
    "regression_line_plot(overall_rank, \"overall_score\", \"rank\")\n",
    "plt.legend()"
   ]
  },
  {
   "cell_type": "markdown",
   "id": "effa2591",
   "metadata": {
    "deletable": false,
    "editable": false
   },
   "source": [
    "**Food for thought:** Does our linear regression model fit the points well? It looks like the relationship between the `overall_score` and `rank` is **not quite linear**. In fact, a cursory look at the data suggests that the relationship is in fact, inverse."
   ]
  },
  {
   "cell_type": "code",
   "execution_count": 58,
   "id": "9f1de243",
   "metadata": {},
   "outputs": [],
   "source": [
    "# Food for thought is an entirely OPTIONAL exercise\n",
    "# you may leave your thoughts here as a comment if you wish to"
   ]
  },
  {
   "cell_type": "markdown",
   "id": "26e4e3c1",
   "metadata": {
    "deletable": false,
    "editable": false
   },
   "source": [
    "**Question 18:** Create a **scatter plot** representing the **inverse** of the `overall_score` (on the **x-axis**) against the `rank` (on the **y-axis**) for **all** institutions in the `year` *2020*. Additionally, **plot** a **regression line**  within the same plot.\n",
    "\n",
    "The `inverse_overall_score` for each institution is simply defined as `1/overall_score` for that institution. You **must** first compute a **DataFrame** containing the **inverse_overall_score**, and the **rank** data from the `year` *2020*. You **must** use the `get_regression_line` function to compute the best fit line."
   ]
  },
  {
   "cell_type": "code",
   "execution_count": 59,
   "id": "6c535d83",
   "metadata": {
    "tags": []
   },
   "outputs": [
    {
     "data": {
      "text/html": [
       "<div>\n",
       "<style scoped>\n",
       "    .dataframe tbody tr th:only-of-type {\n",
       "        vertical-align: middle;\n",
       "    }\n",
       "\n",
       "    .dataframe tbody tr th {\n",
       "        vertical-align: top;\n",
       "    }\n",
       "\n",
       "    .dataframe thead th {\n",
       "        text-align: right;\n",
       "    }\n",
       "</style>\n",
       "<table border=\"1\" class=\"dataframe\">\n",
       "  <thead>\n",
       "    <tr style=\"text-align: right;\">\n",
       "      <th></th>\n",
       "      <th>inverse_overall_score</th>\n",
       "      <th>rank</th>\n",
       "      <th>1</th>\n",
       "      <th>fit</th>\n",
       "    </tr>\n",
       "  </thead>\n",
       "  <tbody>\n",
       "    <tr>\n",
       "      <th>0</th>\n",
       "      <td>0.010000</td>\n",
       "      <td>1</td>\n",
       "      <td>1</td>\n",
       "      <td>0.010503</td>\n",
       "    </tr>\n",
       "    <tr>\n",
       "      <th>1</th>\n",
       "      <td>0.010163</td>\n",
       "      <td>2</td>\n",
       "      <td>1</td>\n",
       "      <td>0.010566</td>\n",
       "    </tr>\n",
       "    <tr>\n",
       "      <th>2</th>\n",
       "      <td>0.010267</td>\n",
       "      <td>3</td>\n",
       "      <td>1</td>\n",
       "      <td>0.010629</td>\n",
       "    </tr>\n",
       "    <tr>\n",
       "      <th>3</th>\n",
       "      <td>0.010288</td>\n",
       "      <td>4</td>\n",
       "      <td>1</td>\n",
       "      <td>0.010691</td>\n",
       "    </tr>\n",
       "    <tr>\n",
       "      <th>4</th>\n",
       "      <td>0.010320</td>\n",
       "      <td>5</td>\n",
       "      <td>1</td>\n",
       "      <td>0.010754</td>\n",
       "    </tr>\n",
       "  </tbody>\n",
       "</table>\n",
       "</div>"
      ],
      "text/plain": [
       "   inverse_overall_score  rank  1       fit\n",
       "0               0.010000     1  1  0.010503\n",
       "1               0.010163     2  1  0.010566\n",
       "2               0.010267     3  1  0.010629\n",
       "3               0.010288     4  1  0.010691\n",
       "4               0.010320     5  1  0.010754"
      ]
     },
     "execution_count": 59,
     "metadata": {},
     "output_type": "execute_result"
    }
   ],
   "source": [
    "# first compute and store the DataFrame 'inverse_overall_rank', then display its head\n",
    "# do NOT plot just yet\n",
    "inverse_overall_rank_original = pd.read_sql(\"\"\"\n",
    "SELECT (1/overall_score) as inverse_overall_score, rank\n",
    "FROM rankings\n",
    "WHERE year = 2020\n",
    "\"\"\", conn)\n",
    "\n",
    "inverse_overall_rank = get_regression_line(inverse_overall_rank_original, \"rank\", \"inverse_overall_score\")\n",
    "inverse_overall_rank.head()"
   ]
  },
  {
   "cell_type": "code",
   "execution_count": 60,
   "id": "22a6a736",
   "metadata": {
    "deletable": false,
    "editable": false
   },
   "outputs": [
    {
     "data": {
      "text/html": [
       "<p><strong><pre style='display: inline;'>q18</pre></strong> passed! 🙌</p>"
      ],
      "text/plain": [
       "q18 results: All test cases passed!"
      ]
     },
     "execution_count": 60,
     "metadata": {},
     "output_type": "execute_result"
    }
   ],
   "source": [
    "grader.check(\"q18\")"
   ]
  },
  {
   "cell_type": "markdown",
   "id": "e64a0040",
   "metadata": {
    "deletable": false,
    "editable": false
   },
   "source": [
    "Now, **plot** `inverse_overall_rank` as **scatter plot** with a **regression line** with the **x-axis** labelled *inverse_overall_score* and the **y-axis** labelled *rank*.\n",
    "\n",
    "You **must** use the `regression_line_plot` function to plot this data.\n",
    "\n",
    "**Important Warning:** `p13_test.py` can check that the **DataFrame** is correct, but it **cannot** check if your plot appears on the screen, or whether the axes are correctly labelled. If your plot is not visible, or if it is not properly labelled, the Gradescope autograder will **deduct points**.\n",
    "\n",
    "Your plot should look like this:"
   ]
  },
  {
   "cell_type": "code",
   "execution_count": 61,
   "id": "dd8efd5b",
   "metadata": {
    "tags": []
   },
   "outputs": [
    {
     "data": {
      "text/plain": [
       "<matplotlib.legend.Legend at 0x17c8b68acd0>"
      ]
     },
     "execution_count": 61,
     "metadata": {},
     "output_type": "execute_result"
    },
    {
     "data": {
      "image/png": "[encoded data removed]",
      "text/plain": [
       "<Figure size 640x480 with 1 Axes>"
      ]
     },
     "metadata": {},
     "output_type": "display_data"
    }
   ],
   "source": [
    "# create the scatter plot and the regression line using the DataFrame 'inverse_overall_rank'\n",
    "# with the x-axis labelled \"inverse_overall_score\" and the y-axis labelled \"rank\"\n",
    "regression_line_plot(inverse_overall_rank, \"inverse_overall_score\", \"rank\")\n",
    "plt.legend()"
   ]
  },
  {
   "cell_type": "markdown",
   "id": "9f9f2089",
   "metadata": {
    "deletable": false,
    "editable": false
   },
   "source": [
    "This seems to be much better! Let us now use this **regression line** to **estimate** the `rank` of an institution given its `overall_score`."
   ]
  },
  {
   "cell_type": "markdown",
   "id": "0849a83f",
   "metadata": {
    "deletable": false,
    "editable": false
   },
   "source": [
    "**Question 19:** Use the regression line to **estimate** the `rank` of an institution with an `overall_score` of *72*.\n",
    "\n",
    "Your output **must** be an **int**. If your **estimate** is a **float**, *round it up* using `math.ceil`.\n",
    "\n",
    "\n",
    "**Hints:**\n",
    "1. Call the `get_regression_coeff` function to get the coefficients `m` and `b`.\n",
    "2. Recall that the equation of a line is `y = m * x + b`. What are `x` and `y` here?"
   ]
  },
  {
   "cell_type": "code",
   "execution_count": 62,
   "id": "7f3fa177",
   "metadata": {
    "tags": []
   },
   "outputs": [
    {
     "data": {
      "text/plain": [
       "56"
      ]
     },
     "execution_count": 62,
     "metadata": {},
     "output_type": "execute_result"
    }
   ],
   "source": [
    "# compute and store the answer in the variable 'rank_score_72', then display it\n",
    "overall_rank_coeff = get_regression_coeff(inverse_overall_rank, \"inverse_overall_score\", \"fit\")\n",
    "overall_rank_coeff\n",
    "rank_score_72 = math.ceil(overall_rank_coeff[0] * (1/72) + overall_rank_coeff[1])\n",
    "rank_score_72"
   ]
  },
  {
   "cell_type": "code",
   "execution_count": 63,
   "id": "c1559986",
   "metadata": {
    "deletable": false,
    "editable": false
   },
   "outputs": [
    {
     "data": {
      "text/html": [
       "<p><strong><pre style='display: inline;'>q19</pre></strong> passed! 🍀</p>"
      ],
      "text/plain": [
       "q19 results: All test cases passed!"
      ]
     },
     "execution_count": 63,
     "metadata": {},
     "output_type": "execute_result"
    }
   ],
   "source": [
    "grader.check(\"q19\")"
   ]
  },
  {
   "cell_type": "markdown",
   "id": "547f4135",
   "metadata": {
    "deletable": false,
    "editable": false
   },
   "source": [
    "**Food for thought:** Can you find out the `overall_score` of the university with this `rank` in the `year` *2020*? Does it match your prediction?"
   ]
  },
  {
   "cell_type": "code",
   "execution_count": 64,
   "id": "60915e12",
   "metadata": {},
   "outputs": [],
   "source": [
    "# Food for thought is an entirely OPTIONAL exercise\n",
    "# you may leave your thoughts here as a comment if you wish to"
   ]
  },
  {
   "cell_type": "markdown",
   "id": "53ab4005",
   "metadata": {
    "deletable": false,
    "editable": false
   },
   "source": [
    "**Question 20:** Using the data from Question 5, create a **pie plot** representing the number of institutions from each country.\n",
    "\n",
    "You **have** already computed a **DataFrame** `num_institutions` (in Question 5) containing the **country**, and the **num_of_institutions** data. Run the following cell just to confirm that the variable has not changed its values since you defined it in Question 5."
   ]
  },
  {
   "cell_type": "code",
   "execution_count": 65,
   "id": "2a86a546",
   "metadata": {
    "deletable": false,
    "editable": false
   },
   "outputs": [
    {
     "data": {
      "text/html": [
       "<p><strong><pre style='display: inline;'>q20</pre></strong> passed! 🍀</p>"
      ],
      "text/plain": [
       "q20 results: All test cases passed!"
      ]
     },
     "execution_count": 65,
     "metadata": {},
     "output_type": "execute_result"
    }
   ],
   "source": [
    "grader.check(\"q20\")"
   ]
  },
  {
   "cell_type": "markdown",
   "id": "d95601d7",
   "metadata": {
    "deletable": false,
    "editable": false
   },
   "source": [
    "Now, **plot** `num_institutions` as **pie plot** with the **title** *Number of institutions*.\n",
    "\n",
    "Now, you **must** use the `pie_plot` function to create the **pie plot**. The **colors** do **not** matter, but the plot **must** be titled `Number of institutions`, and **must** be labelled as in the sample output below.\n",
    "\n",
    "**Important Warning:** `p13_test.py` can check that the **DataFrame** is correct, but it **cannot** check if your plot appears on the screen, or whether the axes are correctly labelled. If your plot is not visible, or if it is not properly labelled, the Gradescope autograder will **deduct points**.\n",
    "\n",
    "Your plot should look like this:"
   ]
  },
  {
   "cell_type": "code",
   "execution_count": 66,
   "id": "0fdcbe48",
   "metadata": {
    "tags": []
   },
   "outputs": [
    {
     "data": {
      "image/png": "[encoded data removed]",
      "text/plain": [
       "<Figure size 640x480 with 1 Axes>"
      ]
     },
     "metadata": {},
     "output_type": "display_data"
    }
   ],
   "source": [
    "# create the pie plot using the DataFrame 'num_institutions' titled \"Number of institutions\"\n",
    "pie_plot(num_institutions, \"country\", \"num_of_institutions\", \"Number of institutions\")"
   ]
  },
  {
   "cell_type": "markdown",
   "id": "6bce0354",
   "metadata": {
    "deletable": false,
    "editable": false
   },
   "source": [
    "**Food for thought:** It seems that we'll run out of colors! How can we make it so that **no two neighbors share a color**? You'll probably have to look online."
   ]
  },
  {
   "cell_type": "code",
   "execution_count": 67,
   "id": "7bd4d538",
   "metadata": {},
   "outputs": [],
   "source": [
    "# Food for thought is an entirely OPTIONAL exercise\n",
    "# you may leave your thoughts here as a comment if you wish to"
   ]
  },
  {
   "cell_type": "markdown",
   "id": "936abcda",
   "metadata": {
    "deletable": false,
    "editable": false
   },
   "source": [
    "### Closing the database connection:\n",
    "\n",
    "Now, before you **submit** your notebook, you **must** **close** your connection `conn`. Not doing this might make **Gradescope fail**. Additionally, **delete** the example images provided with plot questions to save space, if your notebook file is too large for submission. You can **delete** any cell by selecting the cell, hitting the `Esc` key once, and then hitting the `d` key **twice**."
   ]
  },
  {
   "cell_type": "code",
   "execution_count": 68,
   "id": "9515f232",
   "metadata": {
    "tags": []
   },
   "outputs": [],
   "source": [
    "# close your connection here\n",
    "conn.close()"
   ]
  },
  {
   "cell_type": "markdown",
   "id": "27a5f70c",
   "metadata": {
    "deletable": false,
    "editable": false
   },
   "source": [
    "## Submission\n",
    "Make sure you have run all cells in your notebook in order before running the following cells, so that all images/graphs appear in the output. The following cells will generate a zip file for you to submit.\n",
    "\n",
    "**SUBMISSION INSTRUCTIONS**:\n",
    "1. **Upload** the zipfile to Gradescope.\n",
    "2. Check **Gradescope otter** results as soon as the auto-grader execution gets completed. Don't worry about the score showing up as -/100.0. You only need to check that the test cases passed."
   ]
  },
  {
   "cell_type": "code",
   "execution_count": 69,
   "id": "9419c771",
   "metadata": {
    "cell_type": "code",
    "deletable": false,
    "editable": false
   },
   "outputs": [
    {
     "data": {
      "application/javascript": [
       "IPython.notebook.save_checkpoint();"
      ],
      "text/plain": [
       "<IPython.core.display.Javascript object>"
      ]
     },
     "metadata": {},
     "output_type": "display_data"
    }
   ],
   "source": [
    "from IPython.display import display, Javascript\n",
    "display(Javascript('IPython.notebook.save_checkpoint();'))"
   ]
  },
  {
   "cell_type": "code",
   "execution_count": 70,
   "id": "b54d6127",
   "metadata": {
    "cell_type": "code",
    "deletable": false,
    "editable": false
   },
   "outputs": [
    {
     "name": "stdout",
     "output_type": "stream",
     "text": [
      "[jupytext] Reading p13.ipynb in format ipynb\n",
      "[jupytext] Writing p13.py (destination file replaced)\n"
     ]
    }
   ],
   "source": [
    "!jupytext --to py p13.ipynb"
   ]
  },
  {
   "cell_type": "code",
   "execution_count": 71,
   "id": "11da7246",
   "metadata": {
    "cell_type": "code",
    "deletable": false,
    "editable": false
   },
   "outputs": [
    {
     "name": "stdout",
     "output_type": "stream",
     "text": [
      "Running your submission against local test cases...\n",
      "\n",
      "\n",
      "\n",
      "Your submission received the following results when run against available test cases:\n",
      "\n",
      "    q1 results: All test cases passed!\n",
      "\n",
      "    q2 results: All test cases passed!\n",
      "\n",
      "    q3 results: All test cases passed!\n",
      "\n",
      "    q4 results: All test cases passed!\n",
      "\n",
      "    q5 results: All test cases passed!\n",
      "\n",
      "    q6 results: All test cases passed!\n",
      "\n",
      "    q7 results: All test cases passed!\n",
      "\n",
      "    q8 results: All test cases passed!\n",
      "\n",
      "    q9 results: All test cases passed!\n",
      "\n",
      "    q10 results: All test cases passed!\n",
      "\n",
      "    q11 results: All test cases passed!\n",
      "\n",
      "    q12 results: All test cases passed!\n",
      "\n",
      "    q13 results: All test cases passed!\n",
      "\n",
      "    q14 results: All test cases passed!\n",
      "\n",
      "    q15 results: All test cases passed!\n",
      "\n",
      "    q16 results: All test cases passed!\n",
      "\n",
      "    q17 results: All test cases passed!\n",
      "\n",
      "    q18 results: All test cases passed!\n",
      "\n",
      "    q19 results: All test cases passed!\n",
      "\n",
      "    q20 results: All test cases passed!\n"
     ]
    },
    {
     "data": {
      "text/html": [
       "\n",
       "            <p>Your submission has been exported. Click <a href=\"p13_2023_05_03T21_24_23_169156.zip\" download=\"p13_2023_05_03T21_24_23_169156.zip\" target=\"_blank\">here</a>\n",
       "            to download the zip file.</p>\n",
       "            "
      ],
      "text/plain": [
       "<IPython.core.display.HTML object>"
      ]
     },
     "metadata": {},
     "output_type": "display_data"
    }
   ],
   "source": [
    "p13_test.check_file_size(\"p13.ipynb\")\n",
    "grader.export(pdf=False, run_tests=True, files=[py_filename])"
   ]
  },
  {
   "cell_type": "markdown",
   "id": "a44ca87a",
   "metadata": {
    "deletable": false,
    "editable": false
   },
   "source": [
    " "
   ]
  }
 ],
 "metadata": {
  "kernelspec": {
   "display_name": "Python 3 (ipykernel)",
   "language": "python",
   "name": "python3"
  },
  "language_info": {
   "codemirror_mode": {
    "name": "ipython",
    "version": 3
   },
   "file_extension": ".py",
   "mimetype": "text/x-python",
   "name": "python",
   "nbconvert_exporter": "python",
   "pygments_lexer": "ipython3",
   "version": "3.9.13"
  },
  "otter": {
   "OK_FORMAT": true,
   "tests": {
    "q1": {
     "name": "q1",
     "points": 5,
     "suites": [
      {
       "cases": [
        {
         "code": ">>> p13_test.check(\"q1\", uw_rating.reset_index(drop=True).to_html())\nTrue",
         "hidden": false,
         "locked": false
        }
       ],
       "scored": true,
       "setup": "",
       "teardown": "",
       "type": "doctest"
      }
     ]
    },
    "q10": {
     "name": "q10",
     "points": 5,
     "suites": [
      {
       "cases": [
        {
         "code": ">>> p13_test.check(\"q10\", top_ranked_inter_faculty[[\"international_students\", \"faculty_student_score\"]].reset_index(drop=True).to_html())\nTrue",
         "hidden": false,
         "locked": false
        }
       ],
       "scored": true,
       "setup": "",
       "teardown": "",
       "type": "doctest"
      }
     ]
    },
    "q11": {
     "name": "q11",
     "points": 5,
     "suites": [
      {
       "cases": [
        {
         "code": ">>> p13_test.check(\"q11\", uk_inter_score_corr)\nTrue",
         "hidden": false,
         "locked": false
        }
       ],
       "scored": true,
       "setup": "",
       "teardown": "",
       "type": "doctest"
      }
     ]
    },
    "q12": {
     "name": "q12",
     "points": 5,
     "suites": [
      {
       "cases": [
        {
         "code": ">>> p13_test.check(\"q12\", cit_per_inter_score_corr)\nTrue",
         "hidden": false,
         "locked": false
        }
       ],
       "scored": true,
       "setup": "",
       "teardown": "",
       "type": "doctest"
      }
     ]
    },
    "q13": {
     "name": "q13",
     "points": 5,
     "suites": [
      {
       "cases": [
        {
         "code": ">>> p13_test.check(\"q13\", top_cit_per_inter.reset_index(drop=True).to_html())\nTrue",
         "hidden": false,
         "locked": false
        }
       ],
       "scored": true,
       "setup": "",
       "teardown": "",
       "type": "doctest"
      }
     ]
    },
    "q14": {
     "name": "q14",
     "points": 5,
     "suites": [
      {
       "cases": [
        {
         "code": ">>> p13_test.check(\"q14\", avg_cit_per_inter.reset_index(drop=True).to_html())\nTrue",
         "hidden": false,
         "locked": false
        }
       ],
       "scored": true,
       "setup": "",
       "teardown": "",
       "type": "doctest"
      }
     ]
    },
    "q15": {
     "name": "q15",
     "points": 5,
     "suites": [
      {
       "cases": [
        {
         "code": ">>> p13_test.check(\"q15\", max_cit_per_inter.reset_index(drop=True).to_html())\nTrue",
         "hidden": false,
         "locked": false
        }
       ],
       "scored": true,
       "setup": "",
       "teardown": "",
       "type": "doctest"
      }
     ]
    },
    "q16": {
     "name": "q16",
     "points": 5,
     "suites": [
      {
       "cases": [
        {
         "code": ">>> p13_test.check(\"q16\", country_citations_inter.reset_index(drop=True).to_html())\nTrue",
         "hidden": false,
         "locked": false
        }
       ],
       "scored": true,
       "setup": "",
       "teardown": "",
       "type": "doctest"
      }
     ]
    },
    "q17": {
     "name": "q17",
     "points": 5,
     "suites": [
      {
       "cases": [
        {
         "code": ">>> p13_test.check(\"q17\", overall_rank[[\"overall_score\", \"rank\", \"fit\"]].reset_index(drop=True).to_html())\nTrue",
         "hidden": false,
         "locked": false
        }
       ],
       "scored": true,
       "setup": "",
       "teardown": "",
       "type": "doctest"
      }
     ]
    },
    "q18": {
     "name": "q18",
     "points": 5,
     "suites": [
      {
       "cases": [
        {
         "code": ">>> p13_test.check(\"q18\", inverse_overall_rank[[\"inverse_overall_score\", \"rank\", \"fit\"]].reset_index(drop=True).to_html())\nTrue",
         "hidden": false,
         "locked": false
        }
       ],
       "scored": true,
       "setup": "",
       "teardown": "",
       "type": "doctest"
      }
     ]
    },
    "q19": {
     "name": "q19",
     "points": 5,
     "suites": [
      {
       "cases": [
        {
         "code": ">>> p13_test.check(\"q19\", rank_score_72)\nTrue",
         "hidden": false,
         "locked": false
        }
       ],
       "scored": true,
       "setup": "",
       "teardown": "",
       "type": "doctest"
      }
     ]
    },
    "q2": {
     "name": "q2",
     "points": 5,
     "suites": [
      {
       "cases": [
        {
         "code": ">>> p13_test.check(\"q2\", japan_top_10_inter.reset_index(drop=True).to_html())\nTrue",
         "hidden": false,
         "locked": false
        }
       ],
       "scored": true,
       "setup": "",
       "teardown": "",
       "type": "doctest"
      }
     ]
    },
    "q20": {
     "name": "q20",
     "points": 5,
     "suites": [
      {
       "cases": [
        {
         "code": ">>> p13_test.check(\"q20\", num_institutions.reset_index(drop=True).to_html())\nTrue",
         "hidden": false,
         "locked": false
        }
       ],
       "scored": true,
       "setup": "",
       "teardown": "",
       "type": "doctest"
      }
     ]
    },
    "q3": {
     "name": "q3",
     "points": 5,
     "suites": [
      {
       "cases": [
        {
         "code": ">>> p13_test.check(\"q3\", us_top_10_rep.reset_index(drop=True).to_html())\nTrue",
         "hidden": false,
         "locked": false
        }
       ],
       "scored": true,
       "setup": "",
       "teardown": "",
       "type": "doctest"
      }
     ]
    },
    "q4": {
     "name": "q4",
     "points": 5,
     "suites": [
      {
       "cases": [
        {
         "code": ">>> p13_test.check(\"q4\", top_10_countries.reset_index(drop=True).to_html())\nTrue",
         "hidden": false,
         "locked": false
        }
       ],
       "scored": true,
       "setup": "",
       "teardown": "",
       "type": "doctest"
      }
     ]
    },
    "q5": {
     "name": "q5",
     "points": 5,
     "suites": [
      {
       "cases": [
        {
         "code": ">>> p13_test.check(\"q5\", num_institutions.reset_index(drop=True).to_html())\nTrue",
         "hidden": false,
         "locked": false
        }
       ],
       "scored": true,
       "setup": "",
       "teardown": "",
       "type": "doctest"
      }
     ]
    },
    "q6": {
     "name": "q6",
     "points": 5,
     "suites": [
      {
       "cases": [
        {
         "code": ">>> p13_test.check(\"q6\", top_10_total_score.reset_index(drop=True).to_html())\nTrue",
         "hidden": false,
         "locked": false
        }
       ],
       "scored": true,
       "setup": "",
       "teardown": "",
       "type": "doctest"
      }
     ]
    },
    "q7": {
     "name": "q7",
     "points": 5,
     "suites": [
      {
       "cases": [
        {
         "code": ">>> p13_test.check(\"q7\", top_10_inter_score.reset_index(drop=True).to_html())\nTrue",
         "hidden": false,
         "locked": false
        }
       ],
       "scored": true,
       "setup": "",
       "teardown": "",
       "type": "doctest"
      }
     ]
    },
    "q8": {
     "name": "q8",
     "points": 5,
     "suites": [
      {
       "cases": [
        {
         "code": ">>> p13_test.check(\"q8\", citations_overall.reset_index(drop=True).to_html())\nTrue",
         "hidden": false,
         "locked": false
        }
       ],
       "scored": true,
       "setup": "",
       "teardown": "",
       "type": "doctest"
      }
     ]
    },
    "q9": {
     "name": "q9",
     "points": 5,
     "suites": [
      {
       "cases": [
        {
         "code": ">>> p13_test.check(\"q9\", reputations_usa.reset_index(drop=True).to_html())\nTrue",
         "hidden": false,
         "locked": false
        }
       ],
       "scored": true,
       "setup": "",
       "teardown": "",
       "type": "doctest"
      }
     ]
    }
   }
  },
  "vscode": {
   "interpreter": {
    "hash": "aee8b7b246df8f9039afb4144a1f6fd8d2ca17a180786b69acc140d282b71a49"
   }
  }
 },
 "nbformat": 4,
 "nbformat_minor": 5
}
